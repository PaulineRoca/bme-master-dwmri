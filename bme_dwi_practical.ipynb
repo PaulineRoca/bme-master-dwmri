{
 "metadata": {
  "name": "bme_dwi_practical",
  "signature": "sha256:1b3d260376eb824684b5fe215e5dd6ccd50adc818190888bbf088ba2947ebe7e"
 },
 "nbformat": 3,
 "nbformat_minor": 0,
 "worksheets": [
  {
   "cells": [
    {
     "cell_type": "heading",
     "level": 1,
     "metadata": {},
     "source": [
      "Tractography: from diffusion-weighted MRI to brain\n",
      "anatomical connectivity"
     ]
    },
    {
     "cell_type": "markdown",
     "metadata": {},
     "source": [
      "Pauline Roca, Sainte Anne"
     ]
    },
    {
     "cell_type": "markdown",
     "metadata": {},
     "source": [
      "UE 3.11b \u2013 Advanced NeuroImaging Data\n",
      "Modeling and Analysis <a id='tableofcontents'></a>"
     ]
    },
    {
     "cell_type": "markdown",
     "metadata": {},
     "source": [
      "###<a href='#Whydowedodiffusion'>1. Why do we do diffusion MRI ?</a>###\n",
      "\n",
      "###<a href='#diffusionprinciple'>2. Diffusion principle</a>###\n",
      "\n",
      "###<a href='#diffusioninthebrain'>3. Diffusion in the brain</a>###\n",
      "\n",
      "###<a href='#diffusionmrsignal'>4. Diffusion MR signal</a>###\n",
      "\n",
      "###<a href='#viewingdiffusiondata'>5. Viewing diffusion-weighted data in python</a>###\n",
      "\n",
      "###<a href='#preprocessings'>6. Preprocessings: Correction for susceptibility-induced distortions</a>###\n",
      "\n",
      "###<a href='#localmodeling'>7. Local modeling of the diffusion phenomenon</a>###\n",
      "\n",
      "###<a href='#tractography'>9. Tractography</a>###\n",
      "\n",
      "\n",
      "\n"
     ]
    },
    {
     "cell_type": "markdown",
     "metadata": {},
     "source": [
      "<a id='Whydowedodiffusion'></a>"
     ]
    },
    {
     "cell_type": "heading",
     "level": 2,
     "metadata": {},
     "source": [
      "1. Why do we do diffusion MRI ? "
     ]
    },
    {
     "cell_type": "markdown",
     "metadata": {},
     "source": [
      "- to reconstruct brain structural connectivity.\n",
      "- to quantify brain white matter integrity\n",
      "- to have an estimation of tissue microstructure (cell size/density)\n",
      "\n",
      "Lots of clinical and neuroscientific applications"
     ]
    },
    {
     "cell_type": "markdown",
     "metadata": {},
     "source": [
      "<a id='diffusionprinciple'></a>"
     ]
    },
    {
     "cell_type": "heading",
     "level": 2,
     "metadata": {},
     "source": [
      "2. Diffusion principle"
     ]
    },
    {
     "cell_type": "markdown",
     "metadata": {},
     "source": [
      "Diffusion = thermally-driven random motion (brownian motion)\n",
      "\n",
      "[Einstein 1905] :  < $x^2$ >=$6Dt$\n",
      "\n",
      "- < $x^2$ > = mean squared displacement in $m^2$, \n",
      "- $D$ = diffusion coefficient in $m^2/s$\n",
      "- $t$ = time in seconds\n",
      "\n",
      "The mean squared displacement of an ensemble of molecules is proportional to time and the diffusion coefficient.\n",
      "\n"
     ]
    },
    {
     "cell_type": "markdown",
     "metadata": {},
     "source": [
      "- Free diffusion: isotropic: a water molecule has the same probability of movement in all spatial directions\n",
      "- Diffusional processes are influenced by the geometrical structure of the environment"
     ]
    },
    {
     "cell_type": "markdown",
     "metadata": {},
     "source": [
      "<a id='diffusioninthebrain'></a> "
     ]
    },
    {
     "cell_type": "heading",
     "level": 2,
     "metadata": {},
     "source": [
      "3. Diffusion in the brain"
     ]
    },
    {
     "cell_type": "markdown",
     "metadata": {},
     "source": [
      "In biological tissus, diffusion is restricted by cell membranes, tissue boundaries, etc.\n",
      "\n",
      "\u2192 Apparent Diffusion Coefficient (ADC)\n",
      "\n",
      "In white matter, diffusion is anisotropic: the diffusion of water molecules is restricted perpendicular to the fiber bundles\n",
      "\n",
      "&rarr; If you have an estimation about the probability of diffusion of water molecule in 3D space, we can estimate the orientation of fiber bundles."
     ]
    },
    {
     "cell_type": "markdown",
     "metadata": {},
     "source": [
      "<a id='diffusionmrsignal'></a>  <a href='#tableofcontents'>table of contents</a>"
     ]
    },
    {
     "cell_type": "heading",
     "level": 2,
     "metadata": {},
     "source": [
      "4. Diffusion MRI signal"
     ]
    },
    {
     "cell_type": "markdown",
     "metadata": {},
     "source": [
      "To achieve diffusion-weighting along a direction **x**, we apply strong magnetic field gradients along **x**.\n",
      "[Stejskal & Tanner, 1965]"
     ]
    },
    {
     "cell_type": "code",
     "collapsed": false,
     "input": [
      "from IPython.display import Image\n",
      "i = Image(filename='files/stejskal-tanner1965_BergBook_2014.jpg')\n",
      "i"
     ],
     "language": "python",
     "metadata": {},
     "outputs": [
      {
       "jpeg": "[encoded data removed]",
       "output_type": "pyout",
       "prompt_number": 3,
       "text": [
        "<IPython.core.display.Image at 0x3b1c110>"
       ]
      }
     ],
     "prompt_number": 3
    },
    {
     "cell_type": "markdown",
     "metadata": {},
     "source": [
      "- if particles remain stationary, the MR signal is not modified by the gradient\n",
      "- if particles diffuse along **x** during the diffusion time $\\Delta$, a ***signal attenuation*** is observed compared to the signal without any gradient (G = 0)."
     ]
    },
    {
     "cell_type": "markdown",
     "metadata": {},
     "source": [
      "Measured signal (S) attenuated compared to the signal obtained without diffusion weighting.\n",
      "\n",
      "Signal attenuation (SA): $SA= S/S_0=e^{-b.ADC}$\n",
      "where b is called the b-value and depends on gradient intensity and diffusion time. b determines the diffusion weighting of the acquistion.\n",
      "\n",
      "higher b-value \u2192 more diffusion contrast"
     ]
    },
    {
     "cell_type": "markdown",
     "metadata": {},
     "source": [
      "### Exercise:\n",
      "In practice: \n",
      "The apparent diffusion coefficient of pure water at $20\u00b0$ is about $2.4$ $\\mu m^2$/ms.\n",
      "The acquisition time between the two gradient applications is about $50ms$.\n",
      "\n",
      "- What can you say about the displacements we are looking at ? "
     ]
    },
    {
     "cell_type": "code",
     "collapsed": false,
     "input": [
      "#you can do some python manipulation here"
     ],
     "language": "python",
     "metadata": {},
     "outputs": []
    },
    {
     "cell_type": "markdown",
     "metadata": {},
     "source": [
      "Help: example of some numeric manipulations in python:"
     ]
    },
    {
     "cell_type": "code",
     "collapsed": false,
     "input": [
      "a = 3 # Definition of a variable 'a' of value '3'\n",
      "print a # print the value of a in the output\n",
      "b = a * 2 # definition of a new variable 'b' of value : the value of 'a' multiplied by 2\n",
      "c = 10**-3 # the value of the variable 'c' is 10 power -3 (= 0.001)"
     ],
     "language": "python",
     "metadata": {},
     "outputs": [
      {
       "output_type": "stream",
       "stream": "stdout",
       "text": [
        "3\n"
       ]
      }
     ],
     "prompt_number": 2
    },
    {
     "cell_type": "markdown",
     "metadata": {},
     "source": [
      "<a id='viewingdiffusiondata'></a>  <a href='#tableofcontents'>table of contents</a>"
     ]
    },
    {
     "cell_type": "heading",
     "level": 2,
     "metadata": {},
     "source": [
      "5. Diffusion MR scanner data"
     ]
    },
    {
     "cell_type": "markdown",
     "metadata": {},
     "source": [
      "#### GOALS : \n",
      "\n",
      "- to become familiar with manipulation and visualization of diffusion MR images in  python and FSL\n",
      "- to understand diffusion phenomenon, diffusion in brain tissues and the consequences on diffusion MR signal"
     ]
    },
    {
     "cell_type": "heading",
     "level": 3,
     "metadata": {},
     "source": [
      "5.1. Familiarise yourself with diffusion data and python"
     ]
    },
    {
     "cell_type": "markdown",
     "metadata": {},
     "source": [
      "### After the MR acquisition, a typical diffusion dataset is composed of :\n",
      "\n",
      "- a dwidata file : it is a 4D image containing diffusion MR volumes for different diffusion-weights and orientations\n",
      "\n",
      "- a bvals file : it is a text file containing the b-value associated with each diffusion orientation\n",
      "\n",
      "- bvecs file : contains the gradient directions associated with each diffusion orientation. Each direction is a\n",
      "vector of 3 dimensions indicating gradient direction in the 3 spatial directions x, y, and z."
     ]
    },
    {
     "cell_type": "markdown",
     "metadata": {},
     "source": [
      "### Let's look at some diffusion data in python ! :"
     ]
    },
    {
     "cell_type": "markdown",
     "metadata": {},
     "source": [
      "The data are in \"~/tp_bme_dwi/data/fsl_ftd1/subj1\".\n",
      "The following code defines data1_dirname which holds this directory."
     ]
    },
    {
     "cell_type": "code",
     "collapsed": false,
     "input": [
      "import numpy as np # Python package for handling arrays\n",
      "import os # to have access to commands of the operating system\n",
      "from os.path import expanduser, join\n",
      "home = expanduser('~')\n",
      "print home\n",
      "data1_dirname = join(home,'tp_bme_dwi','data','fsl_fdt1','subj1')\n",
      "print data1_dirname"
     ],
     "language": "python",
     "metadata": {},
     "outputs": [
      {
       "output_type": "stream",
       "stream": "stdout",
       "text": [
        "/home/brain\n",
        "/home/brain/tp_bme_dwi/data/fsl_fdt1/subj1\n"
       ]
      }
     ],
     "prompt_number": 4
    },
    {
     "cell_type": "markdown",
     "metadata": {},
     "source": [
      "Let's have a look at what's in the dataset for subject 1 :"
     ]
    },
    {
     "cell_type": "code",
     "collapsed": false,
     "input": [
      "print os.listdir(data1_dirname)"
     ],
     "language": "python",
     "metadata": {},
     "outputs": [
      {
       "output_type": "stream",
       "stream": "stdout",
       "text": [
        "['bvecs', 'bvals', 'nodif_brain_mask.nii.gz', 'dti', 'data.nii.gz']\n"
       ]
      }
     ],
     "prompt_number": 5
    },
    {
     "cell_type": "markdown",
     "metadata": {},
     "source": [
      "Here the complete filenames of the three files we are interested in :"
     ]
    },
    {
     "cell_type": "code",
     "collapsed": false,
     "input": [
      "dwi_fname = join(data1_dirname,'data.nii.gz')\n",
      "print dwi_fname\n",
      "bvecs_fname = join(data1_dirname ,'bvecs')\n",
      "print bvecs_fname\n",
      "bvals_fname = join(data1_dirname,'bvals')\n",
      "print bvals_fname"
     ],
     "language": "python",
     "metadata": {},
     "outputs": [
      {
       "output_type": "stream",
       "stream": "stdout",
       "text": [
        "/home/brain/tp_bme_dwi/data/fsl_fdt1/subj1/data.nii.gz\n",
        "/home/brain/tp_bme_dwi/data/fsl_fdt1/subj1/bvecs\n",
        "/home/brain/tp_bme_dwi/data/fsl_fdt1/subj1/bvals\n"
       ]
      }
     ],
     "prompt_number": 6
    },
    {
     "cell_type": "markdown",
     "metadata": {},
     "source": [
      "This first file is in [nifti](http://nifti.nimh.nih.gov/) format, a standard neuroimaging format widely used in the neuroscientific community.\n",
      "\n",
      "It contains an image (an array of numbers) and some metadata.\n",
      "\n",
      "The [nibabel](http://nipy.org/nibabel/) module enables us to read this kind of neuroimaging-specific format :"
     ]
    },
    {
     "cell_type": "code",
     "collapsed": false,
     "input": [
      "import nibabel as nib\n",
      "img = nib.load(dwi_fname)\n",
      "data = img.get_data()"
     ],
     "language": "python",
     "metadata": {},
     "outputs": [],
     "prompt_number": 7
    },
    {
     "cell_type": "markdown",
     "metadata": {},
     "source": [
      "You can check the type of 'data' object and its shape by doing :"
     ]
    },
    {
     "cell_type": "code",
     "collapsed": false,
     "input": [
      "print \"data type : \", type(data)\n",
      "print \"data shape : \", data.shape"
     ],
     "language": "python",
     "metadata": {},
     "outputs": [
      {
       "output_type": "stream",
       "stream": "stdout",
       "text": [
        "data type :  <type 'numpy.ndarray'>\n",
        "data shape :  (96, 96, 64, 64)\n"
       ]
      }
     ],
     "prompt_number": 8
    },
    {
     "cell_type": "markdown",
     "metadata": {},
     "source": [
      "'data' is a 4D array where the first three dimensions are the x, y, z coordinates and the last the number of acquired volumes."
     ]
    },
    {
     "cell_type": "markdown",
     "metadata": {},
     "source": [
      "The dimensions of each voxel (element of volume) can be check like this :"
     ]
    },
    {
     "cell_type": "code",
     "collapsed": false,
     "input": [
      "print(img.get_header().get_zooms()[:3])"
     ],
     "language": "python",
     "metadata": {},
     "outputs": [
      {
       "output_type": "stream",
       "stream": "stdout",
       "text": [
        "(2.0, 2.0, 2.0)\n"
       ]
      }
     ],
     "prompt_number": 7
    },
    {
     "cell_type": "markdown",
     "metadata": {},
     "source": [
      "You can extract a slice by doing:"
     ]
    },
    {
     "cell_type": "code",
     "collapsed": false,
     "input": [
      "slice_data = data[:, :, 32,:]\n",
      "print slice_data.shape"
     ],
     "language": "python",
     "metadata": {},
     "outputs": [
      {
       "output_type": "stream",
       "stream": "stdout",
       "text": [
        "(96, 96, 64)\n"
       ]
      }
     ],
     "prompt_number": 15
    },
    {
     "cell_type": "markdown",
     "metadata": {},
     "source": [
      "You can visualize the corresponding slice in the first volume using [matplotlib](http://matplotlib.org/), in the following way :"
     ]
    },
    {
     "cell_type": "code",
     "collapsed": false,
     "input": [
      "import matplotlib.pyplot as plt # To make 2D plots\n",
      "plt.imshow(slice_data[:,:,0].T, cmap='gray', origin= 'lower')"
     ],
     "language": "python",
     "metadata": {},
     "outputs": [
      {
       "output_type": "pyout",
       "prompt_number": 18,
       "text": [
        "<matplotlib.image.AxesImage at 0x43e4610>"
       ]
      },
      {
       "output_type": "display_data",
       "png": "[encoded data removed]"
      }
     ],
     "prompt_number": 18
    },
    {
     "cell_type": "markdown",
     "metadata": {},
     "source": [
      "To visualize two slices of two consecutive volumes side by side :"
     ]
    },
    {
     "cell_type": "code",
     "collapsed": false,
     "input": [
      "plt.figure()\n",
      "plt.subplot(1,2,1)\n",
      "plt.imshow(slice_data[:,:,0].T, cmap='gray', origin= 'lower')\n",
      "plt.subplot(1,2,2)\n",
      "plt.imshow(slice_data[:,:,1].T, cmap='gray', origin= 'lower')\n",
      "plt.show()"
     ],
     "language": "python",
     "metadata": {},
     "outputs": [
      {
       "output_type": "display_data",
       "png": "[encoded data removed]"
      }
     ],
     "prompt_number": 20
    },
    {
     "cell_type": "markdown",
     "metadata": {},
     "source": [
      "### 5.1 - QUESTIONS: \n",
      "\n",
      "- Can you describe the differences between these two images ? (colorpalette: increasing signal values from black to white)\n",
      "In the brain ventricles for example, where the diffusion can be considered as free ? \n",
      "What can you say about the b-values of these images ?"
     ]
    },
    {
     "cell_type": "markdown",
     "metadata": {},
     "source": [
      "Please answer in this cell"
     ]
    },
    {
     "cell_type": "markdown",
     "metadata": {},
     "source": [
      "- In the white matter, what do you remark ? Is it consistent with what is observed in the ventricles ? And is it normal according to signal values ? How could it be explained ?\n",
      "\n",
      "(help: you can take a look at the maximum and minimum value of the slice by doing : \"slice.max()\" or \"slice.min(). You can also take a look at the help of the \"plt.imshow\" function using tab completion)"
     ]
    },
    {
     "cell_type": "markdown",
     "metadata": {},
     "source": [
      "Please answer in this cell"
     ]
    },
    {
     "cell_type": "code",
     "collapsed": false,
     "input": [
      "# you can do some python manipulation here to help you:"
     ],
     "language": "python",
     "metadata": {},
     "outputs": [],
     "prompt_number": 21
    },
    {
     "cell_type": "markdown",
     "metadata": {},
     "source": [
      "#### TRICK:\n",
      "In order to have help on python functions, try tab completion.\n",
      "For example, to have the python help on \"plt.subplot\" method, try tab completion on:\n",
      "\n",
      "plt.subplot(\n",
      "\n",
      "in a cell of code as follow:"
     ]
    },
    {
     "cell_type": "code",
     "collapsed": false,
     "input": [
      "# Cell to play with matplotlib and diffusion data\n",
      "plt.subplot("
     ],
     "language": "python",
     "metadata": {},
     "outputs": [],
     "prompt_number": 76
    },
    {
     "cell_type": "markdown",
     "metadata": {},
     "source": [
      "### Now you can play with python in order to visualize :\n",
      "\n",
      "1. different slices of the same volume (coronal or sagittal for example)\n",
      "\n",
      "2. the values in a given voxel for all the diffusion weighted volumes (we can call this signal \"diffusion profile\"), for example a voxel in the cerebrospinal fluid (x=43,y=48,z=38)\n",
      "\n",
      "help: use \"plt.plot\" function\n",
      "\n",
      "- Remarks?"
     ]
    },
    {
     "cell_type": "code",
     "collapsed": false,
     "input": [
      "# Cell to play"
     ],
     "language": "python",
     "metadata": {},
     "outputs": []
    },
    {
     "cell_type": "heading",
     "level": 3,
     "metadata": {},
     "source": [
      "5.2 Visualization of diffusion data using FSL"
     ]
    },
    {
     "cell_type": "markdown",
     "metadata": {},
     "source": [
      "[FSL](http://fsl.fmrib.ox.ac.uk/fsl/fslwiki/) is a neuroimaging software dedicated to FMRI, MRI and DTI brain imaging data.\n",
      "You will find FLS viewer in Application Menu \u2192 NeuroDebian \u2192 Medical Imaging \u2192  FSLview\n",
      "\n",
      "- Open diffusion data with fslview (file:\n",
      "'~/tp_bme_dwi/data/fsl_fdt1/subj1/data.nii.gz')\n",
      "- Identify which diffusion volume(s) has no diffusion weighting (no diffusion gradient applied).\n",
      "- for one voxel : look at all the data (CSF voxel [43,48,38]) (Tools>Timeseries in fslview)\n",
      "- we can then add a diffusion profile of another voxel (by using the (+) button on the plot) \n",
      "  - a white matter voxel (inside the corpus callosum for example)\n",
      "  - a grey matter voxel"
     ]
    },
    {
     "cell_type": "markdown",
     "metadata": {},
     "source": [
      "### QUESTIONS:\n",
      "- Describe and explain the difference between these voxels in term of diffusion signal ?\n",
      "- What are the voxels with the most signal attenuation and why ?\n",
      "- by looking at the corpus callosum, can you find volumes associated to a diffusion-weighting along the left/right direction ?"
     ]
    },
    {
     "cell_type": "markdown",
     "metadata": {},
     "source": [
      "Answer below"
     ]
    },
    {
     "cell_type": "heading",
     "level": 3,
     "metadata": {},
     "source": [
      "5.3 Manipulation of diffusion data using dipy"
     ]
    },
    {
     "cell_type": "markdown",
     "metadata": {},
     "source": [
      "You can then load the b-value files and bvecs files using [dipy](http://nipy.org/dipy/index.html), a python module dedicated to diffusion MRI analysis :"
     ]
    },
    {
     "cell_type": "code",
     "collapsed": false,
     "input": [
      "from dipy.io import read_bvals_bvecs\n",
      "bvals, bvecs = read_bvals_bvecs(bvals_fname, bvecs_fname)"
     ],
     "language": "python",
     "metadata": {},
     "outputs": [],
     "prompt_number": 9
    },
    {
     "cell_type": "markdown",
     "metadata": {},
     "source": [
      "### Exercice:\n",
      "Check below if your previous answers were correct or not by looking at b-vales and bvecs in python :"
     ]
    },
    {
     "cell_type": "code",
     "collapsed": false,
     "input": [
      "# Cell to look at bval and bvecs"
     ],
     "language": "python",
     "metadata": {},
     "outputs": [],
     "prompt_number": 20
    },
    {
     "cell_type": "heading",
     "level": 3,
     "metadata": {},
     "source": [
      "5.3 Exercise :"
     ]
    },
    {
     "cell_type": "markdown",
     "metadata": {},
     "source": [
      "Load the Sherbrooke data set of dipy located in '~/tp/data/sherbrooke_3shell'\n",
      "\n",
      "- Describe this dataset (dimensions, number of orientations, b-values, spatial resolution). \n",
      "\n",
      "- Visualize this dataset using FSLview. \n",
      "\n",
      "- With the help of dipy (to get the b-values), FSview or matplotlib (to visualize the data), what can you say about the signal-to-noise ratio and the b-value ? Try to explain your observations thanks to diffusion theory."
     ]
    },
    {
     "cell_type": "markdown",
     "metadata": {},
     "source": [
      "Please answer below by inserting \"code cells\" when using python or \"markdown cells\" for text"
     ]
    },
    {
     "cell_type": "markdown",
     "metadata": {},
     "source": [
      "<a id='preprocessings'></a>  <a href='#tableofcontents'>table of contents</a>"
     ]
    },
    {
     "cell_type": "heading",
     "level": 2,
     "metadata": {},
     "source": [
      "6. Preprocessings : Correction for susceptibility-induced artifacts "
     ]
    },
    {
     "cell_type": "markdown",
     "metadata": {},
     "source": [
      "### GOALS :\n",
      "\n",
      "- to be aware of susceptibility-induced artifacts present in Echo Planar Imaging (MR sequence used for diffusion MRI and functional MRI)\n",
      "\n",
      "- to know how to correct these artifacts using  :\n",
      " - a specific MR acquisition\n",
      " - post-processing method *topup* in FSL"
     ]
    },
    {
     "cell_type": "markdown",
     "metadata": {},
     "source": [
      "### Exercise\n",
      "Have a look at \"b0_PA.nii.gz\" and \"b0_AP.nii.gz\" images (in \"~/tp/data/sainte-anne_preproc\") using fslview.\n",
      "\n",
      "- Compare both images\n",
      "- Remarks?"
     ]
    },
    {
     "cell_type": "markdown",
     "metadata": {},
     "source": [
      "Please answer here"
     ]
    },
    {
     "cell_type": "markdown",
     "metadata": {},
     "source": [
      "The solution ? TOPUP method in FSL : \n",
      "\n",
      "The distorsions you have seen are induced by the \"susceptibility effect\". Indeed, the subject head have an influence on the static magnetic field $B_0$, and causes local changes of this static field. \n",
      "As in MRI, the coordinates of the brain elements of volume are coded by a magnetic field gradient (linear changes along a direction), the susceptibility induced changes move some brain areas and cause distortions. \n",
      "In order to get rid of these distortions, one solution is to acquire two volumes with opposite coordinates direction (opposite gradient along Y here) and then compute a kind of mean of both distorted volumes.\n",
      "\n",
      "###CONCLUSION\n",
      "- Be careful, MRI signal is can be noisy and can have big spatial distortions !!\n",
      "- a specific set up of the MR acquisition is important in EPI (sequence used in functional and diffusion MRI) in order to correct the distorsions. \n",
      "\n",
      "BEFORE the MR acquisition it is important to look at the possible image processing methods available to correct signal artifacts and to know what are the requirements of such methods (additionnal MR sequence, recording of additional information during the usual sequence...)"
     ]
    },
    {
     "cell_type": "markdown",
     "metadata": {},
     "source": [
      "<a id='localmodeling'></a>  <a href='#tableofcontents'>table of contents</a>"
     ]
    },
    {
     "cell_type": "markdown",
     "metadata": {},
     "source": [
      "## 7. Local modeling of the diffusion phenomenon\n",
      "\n",
      "#### Analysis examples"
     ]
    },
    {
     "cell_type": "markdown",
     "metadata": {},
     "source": [
      "### GOALS : \n",
      "\n",
      "- to familiarize yourself with dipy/FSL and diffusion tensor model\n",
      "\n",
      "- to apprehend the drawbacks of diffusion tensor model \n",
      "\n",
      "- to use another local modeling and understand the future impact of both models on the following tractography results"
     ]
    },
    {
     "cell_type": "markdown",
     "metadata": {},
     "source": [
      "Exemple of local modeling: the diffusion tensor model "
     ]
    },
    {
     "cell_type": "heading",
     "level": 3,
     "metadata": {},
     "source": [
      "7.1 Local Modeling using dipy"
     ]
    },
    {
     "cell_type": "markdown",
     "metadata": {},
     "source": [
      "The first dipy example file is here: '~/examples/tensor_model.py' and is a step-by-step example of fitting a diffusion tensor model to experimental data and visualizing the results.\n",
      "\n",
      "The second dipy example file is here: '~/examples/csd_vs_dti_model.py' and presents another model."
     ]
    },
    {
     "cell_type": "markdown",
     "metadata": {},
     "source": [
      "### Exercise:\n",
      "- Read the first example of the diffusion tensor model by opening the first dipy example file in spyder. \n",
      "- Look at the image generated by this python script (in '~/examples/dipy_tensor_result.png')\n",
      "- Do the same with the second script (spherical harmonic model). \n",
      "- Compare both results. \n",
      "- Remarks?"
     ]
    },
    {
     "cell_type": "markdown",
     "metadata": {},
     "source": [
      "Please answer here"
     ]
    },
    {
     "cell_type": "heading",
     "level": 3,
     "metadata": {},
     "source": [
      "7.2 Local modeling using FSL"
     ]
    },
    {
     "cell_type": "markdown",
     "metadata": {},
     "source": [
      "The results of the diffusion tensor model have been computed for one subject using FSL and are located in \"~/tp/data/fsl_fdt1/subj1/dti\""
     ]
    },
    {
     "cell_type": "markdown",
     "metadata": {},
     "source": [
      "### Exercise:\n",
      "- Open \"dti_FA.nii.gz\" in fslview and try to find the same slice as the previous dipy example. (it is a coronal view, with the corpus callosum). "
     ]
    },
    {
     "cell_type": "markdown",
     "metadata": {},
     "source": [
      "<a id='tractography'></a>  <a href='#tableofcontents'>table of contents</a>"
     ]
    },
    {
     "cell_type": "heading",
     "level": 2,
     "metadata": {},
     "source": [
      "9. Tractography"
     ]
    },
    {
     "cell_type": "markdown",
     "metadata": {},
     "source": [
      "### GOALS:\n",
      "\n",
      "- to manipulate FSL for doing tractography\n",
      "- to be aware that a \"tract\" or a connectivity probability map are only approximations of the real brain fiber bundles."
     ]
    },
    {
     "cell_type": "markdown",
     "metadata": {},
     "source": [
      "Data directory for this part: \"~/tp/data/fsl_fdt2/subj1.bedpostX\""
     ]
    },
    {
     "cell_type": "markdown",
     "metadata": {},
     "source": [
      "### EXERCISE \n",
      "(extract of FSL practical on Tractography)\n",
      "\n",
      "#### 1.\n",
      "Open mean_f1_samples with fslview and find the coordinates of a voxel in the internal capsula. (I will show you). \n",
      "Run FtdGUI, with the following parameters: \"ProbTrackx\" with \"single voxel\"\n",
      "\n",
      "- select \"subj1.betpostX\" as the Bedpostx directory\n",
      "- enter the coordinates of the voxel you selected\n",
      "- choose an output name and press Go\n",
      "- visualize the results ( FSL tutorial...)\n",
      "- Remarks ?\n",
      "\n",
      "#### 2.\n",
      "\n",
      "In ... two tractrography results are present. Load the results using FSL view.\n",
      "\n",
      "- Load the results using fslview\n",
      "- Compare both results. \n",
      "- Remarks?\n",
      "\n"
     ]
    },
    {
     "cell_type": "markdown",
     "metadata": {},
     "source": [
      "<a href='#tableofcontents'>table of contents</a>"
     ]
    }
   ],
   "metadata": {}
  }
 ]
}