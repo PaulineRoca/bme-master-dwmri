{
 "metadata": {
  "name": "bme_dwi_practical",
  "signature": "sha256:1b3d260376eb824684b5fe215e5dd6ccd50adc818190888bbf088ba2947ebe7e"
 },
 "nbformat": 3,
 "nbformat_minor": 0,
 "worksheets": [
  {
   "cells": [
    {
     "cell_type": "heading",
     "level": 1,
     "metadata": {},
     "source": [
      "Tractography: from diffusion-weighted MRI to brain\n",
      "anatomical connectivity"
     ]
    },
    {
     "cell_type": "markdown",
     "metadata": {},
     "source": [
      "Pauline Roca, Sainte Anne"
     ]
    },
    {
     "cell_type": "markdown",
     "metadata": {},
     "source": [
      "UE 3.11b \u2013 Advanced NeuroImaging Data\n",
      "Modeling and Analysis <a id='tableofcontents'></a>"
     ]
    },
    {
     "cell_type": "markdown",
     "metadata": {},
     "source": [
      "###<a href='#Whydowedodiffusion'>1. Why do we do diffusion MRI ?</a>###\n",
      "\n",
      "###<a href='#diffusionprinciple'>2. Diffusion principle</a>###\n",
      "\n",
      "###<a href='#diffusioninthebrain'>3. Diffusion in the brain</a>###\n",
      "\n",
      "###<a href='#diffusionmrsignal'>4. Diffusion MR signal</a>###\n",
      "\n",
      "###<a href='#viewingdiffusiondata'>5. Viewing diffusion-weighted data in python</a>###\n",
      "\n",
      "###<a href='#preprocessings'>6. Preprocessings: correcting for artifacts</a>###\n",
      "\n",
      "###<a href='#preproctopup'>6.1 Correction for susceptibility-induced distortions </a>###\n",
      "\n",
      "###<a href='#preproceddy'>6.2 Correction for eddy current distortions and movement</a>###\n",
      "\n",
      "###<a href='#registrationdwtot1'>7. Registration between structural and diffusion images</a>###\n",
      "\n",
      "###<a href='#localmodeling'>8. Local modeling of the diffusion phenomenon</a>###\n",
      "\n",
      "###<a href='#tractographymask'>9. Tractography mask</a>###\n",
      "\n",
      "###<a href='#tractography'>10. Tractography</a>###\n",
      "\n",
      "\n",
      "\n"
     ]
    },
    {
     "cell_type": "markdown",
     "metadata": {},
     "source": [
      "<a id='Whydowedodiffusion'></a>"
     ]
    },
    {
     "cell_type": "heading",
     "level": 2,
     "metadata": {},
     "source": [
      "1. Why do we do diffusion MRI ? "
     ]
    },
    {
     "cell_type": "markdown",
     "metadata": {},
     "source": [
      "to quantify brain white matter integrity or damage to brain structural connectivity.\n",
      "\n",
      "Aim : Given one region of interest, find the connexions of this region towards all the other brain regions.  "
     ]
    },
    {
     "cell_type": "markdown",
     "metadata": {},
     "source": [
      "<a id='diffusionprinciple'></a>"
     ]
    },
    {
     "cell_type": "heading",
     "level": 2,
     "metadata": {},
     "source": [
      "2. Diffusion principle"
     ]
    },
    {
     "cell_type": "markdown",
     "metadata": {},
     "source": [
      "Diffusion = thermally-driven random motion (brownian motion)\n",
      "\n",
      "[Einstein 1905] :  <$x^2$>=$6Dt$\n",
      "\n",
      "<$x^2$> = mean squared displacement, $D$ = diffusion coefficient, $t$ = time\n",
      "\n",
      "The mean squared displacement of an ensemble of molecules is proportional to time and the diffusion coefficient.\n",
      "\n"
     ]
    },
    {
     "cell_type": "markdown",
     "metadata": {},
     "source": [
      "- Free diffusion: isotropic: a water molecule has the same probability of movement in all spatial directions\n",
      "- Diffusional processes are influenced by the geometrical structure of the environment"
     ]
    },
    {
     "cell_type": "markdown",
     "metadata": {},
     "source": [
      "<a id='diffusioninthebrain'></a> "
     ]
    },
    {
     "cell_type": "heading",
     "level": 2,
     "metadata": {},
     "source": [
      "3. Diffusion in the brain"
     ]
    },
    {
     "cell_type": "markdown",
     "metadata": {},
     "source": [
      "In biological tissus, diffusion is restricted by cell membranes, tissue boundaries, etc.\n",
      "\n",
      "\u2192 Apparent Diffusion Coefficient (ADC)\n",
      "\n",
      "A the brain temperature: ADC = $3e10^{-9}m^2/s$\n",
      "\n",
      "In white matter, diffusion is anisotropic: the diffusion of water molecules is restricted perpendicular to the fiber bundles\n",
      "\n",
      "&rarr; If you have an estimation about the probability of diffusion of water molecule in 3D space, we can estimate the orientation of fiber bundles."
     ]
    },
    {
     "cell_type": "markdown",
     "metadata": {},
     "source": [
      "<a id='diffusionmrsignal'></a>  <a href='#tableofcontents'>table of contents</a>"
     ]
    },
    {
     "cell_type": "heading",
     "level": 2,
     "metadata": {},
     "source": [
      "4. Diffusion MRI signal"
     ]
    },
    {
     "cell_type": "markdown",
     "metadata": {},
     "source": [
      "To achieve diffusion-weighting along a direction **x**, we apply strong magnetic field gradients along **x**.\n",
      "[Stejskal & Tanner, 1965]"
     ]
    },
    {
     "cell_type": "code",
     "collapsed": false,
     "input": [
      "from IPython.display import Image\n",
      "i = Image(filename='files/stejskal-tanner1965_BergBook_2014.jpg')\n",
      "i"
     ],
     "language": "python",
     "metadata": {},
     "outputs": [
      {
       "jpeg": "[encoded data removed]",
       "output_type": "pyout",
       "prompt_number": 22,
       "text": [
        "<IPython.core.display.Image at 0x5743a90>"
       ]
      }
     ],
     "prompt_number": 22
    },
    {
     "cell_type": "markdown",
     "metadata": {},
     "source": [
      "- if particles remain stationary, the MR signal is not modified by the gradient\n",
      "- if particles diffuse along **x** during the diffusion time $\\Delta$, a ***signal attenuation*** is observed compared to the signal without any gradient (G = 0).\n",
      "\n",
      "Signal attenuation (SA): $SA=e^{-b.ADC}$\n",
      "where b is called the b-value and depends on gradient intensity and diffusion time. b determines the diffusion weighting of the of the acquistion.\n",
      "\n",
      "**WARNING ! trade-off between diffusion weighting and signal to noise ratio !!!**"
     ]
    },
    {
     "cell_type": "markdown",
     "metadata": {},
     "source": [
      "ex (cf. cours CENIR (b0 + Trace, ou moyenne du signal de diffusion pour l'ensemble des orientations: prendre celles d'elise.)\n",
      "Visu comme precedemment. Et comparaison du signal.\n",
      "L'attenuation depend de la ponderation en diffusion : facteur b..."
     ]
    },
    {
     "cell_type": "markdown",
     "metadata": {},
     "source": [
      "<a id='viewingdiffusiondata'></a>  <a href='#tableofcontents'>table of contents</a>"
     ]
    },
    {
     "cell_type": "heading",
     "level": 2,
     "metadata": {},
     "source": [
      "5. Let's look at some diffusion data in python !"
     ]
    },
    {
     "cell_type": "markdown",
     "metadata": {},
     "source": [
      "Description br\u00e8ve des donnees.\n",
      "\n",
      "Let's import some useful Python modules:"
     ]
    },
    {
     "cell_type": "code",
     "collapsed": false,
     "input": [
      "import numpy as np # Python package for handling arrays\n",
      "import matplotlib.pyplot as plt # To make 2D plots\n",
      "import os # To interact with the operating system\n",
      "import skimage"
     ],
     "language": "python",
     "metadata": {},
     "outputs": [],
     "prompt_number": 23
    },
    {
     "cell_type": "markdown",
     "metadata": {},
     "source": [
      "Next we are going to load some diffusion data.\n",
      "\n",
      "Where are they ? They are in the directory containing subject1 raw dataset."
     ]
    },
    {
     "cell_type": "code",
     "collapsed": false,
     "input": [
      "datadir = \"/home/brain/tp/data\"\n",
      "subj1_rawdatadir = os.path.join(datadir,\"subject1_rawdata\") # the path to the data directory"
     ],
     "language": "python",
     "metadata": {},
     "outputs": [],
     "prompt_number": 24
    },
    {
     "cell_type": "code",
     "collapsed": false,
     "input": [
      "print os.listdir(subj1_rawdatadir)"
     ],
     "language": "python",
     "metadata": {},
     "outputs": [
      {
       "output_type": "stream",
       "stream": "stdout",
       "text": [
        "['dw1.nii.gz', 'dw0.nii.gz', 'dw3.nii.gz', 's12.bvec', 'read_me.txt', 's12.nii.gz', 'dw2.nii.gz', 's12.bval']\n"
       ]
      }
     ],
     "prompt_number": 25
    },
    {
     "cell_type": "markdown",
     "metadata": {},
     "source": [
      "We first load the first volume 'dw0.nii.gz'."
     ]
    },
    {
     "cell_type": "code",
     "collapsed": false,
     "input": [
      "dw0_filename = os.path.join(subj1_rawdatadir, 'dw0.nii.gz')\n",
      "dw0_filename"
     ],
     "language": "python",
     "metadata": {},
     "outputs": [
      {
       "output_type": "pyout",
       "prompt_number": 26,
       "text": [
        "'/home/brain/tp/data/subject1_rawdata/dw0.nii.gz'"
       ]
      }
     ],
     "prompt_number": 26
    },
    {
     "cell_type": "markdown",
     "metadata": {},
     "source": [
      "This file is in **nifti** format, a standard neuroimaging format widely used in the neuroscientific community (more details here: http://nifti.nimh.nih.gov/).\n",
      "\n",
      "It contains an image (an array of numbers) and some metadata.\n",
      "\n",
      "We must import the nibabel package in order to load this image"
     ]
    },
    {
     "cell_type": "code",
     "collapsed": false,
     "input": [
      "import nibabel as nib"
     ],
     "language": "python",
     "metadata": {},
     "outputs": [],
     "prompt_number": 27
    },
    {
     "cell_type": "markdown",
     "metadata": {},
     "source": [
      "**trick:** You can check what's in the package by doing tab completion on \"nib.\""
     ]
    },
    {
     "cell_type": "code",
     "collapsed": false,
     "input": [
      "dw0_img = nib.load(dw0_filename)\n",
      "dw0_img "
     ],
     "language": "python",
     "metadata": {},
     "outputs": [
      {
       "output_type": "pyout",
       "prompt_number": 28,
       "text": [
        "<nibabel.nifti1.Nifti1Image at 0x5743dd0>"
       ]
      }
     ],
     "prompt_number": 28
    },
    {
     "cell_type": "markdown",
     "metadata": {},
     "source": [
      "**trick:** Try tab completion on:\n",
      "\n",
      "dw0_img                \n",
      "(to print dw0_img attributes and methods)\n",
      "\n",
      "dw0_img = nib.load(    \n",
      "(help on the load function)"
     ]
    },
    {
     "cell_type": "code",
     "collapsed": false,
     "input": [
      "# Print image shape:\n",
      "print dw0_img.shape\n",
      "#z interessant dans s12: z = 34"
     ],
     "language": "python",
     "metadata": {},
     "outputs": [
      {
       "output_type": "stream",
       "stream": "stdout",
       "text": [
        "(256, 256, 72)\n"
       ]
      }
     ],
     "prompt_number": 44
    },
    {
     "cell_type": "code",
     "collapsed": false,
     "input": [
      "dw0_arr = dw0_img.get_data() # get the data array\n",
      "print type(dw0_arr)\n",
      "print dw0_arr.dtype\n",
      "middle_slice = dw0_arr[:,:,34]\n",
      "plt.imshow(middle_slice.T, cmap='gray',origin=\"lower\")"
     ],
     "language": "python",
     "metadata": {},
     "outputs": [
      {
       "output_type": "stream",
       "stream": "stdout",
       "text": [
        "<type 'numpy.ndarray'>\n",
        "int16\n"
       ]
      },
      {
       "output_type": "pyout",
       "prompt_number": 63,
       "text": [
        "<matplotlib.image.AxesImage at 0x7b4a510>"
       ]
      },
      {
       "output_type": "display_data",
       "png": "[encoded data removed]"
      }
     ],
     "prompt_number": 63
    },
    {
     "cell_type": "code",
     "collapsed": false,
     "input": [
      "slicedw0_skimg = skimage.io.Image(middle_slice.T)\n",
      "print type(slicedw0_skimg)\n",
      "print slicedw0_skimg.shape"
     ],
     "language": "python",
     "metadata": {},
     "outputs": [
      {
       "output_type": "stream",
       "stream": "stdout",
       "text": [
        "<class 'skimage.io._io.Image'>\n",
        "(256, 256)\n"
       ]
      }
     ],
     "prompt_number": 59
    },
    {
     "cell_type": "code",
     "collapsed": false,
     "input": [
      "from skimage import data\n",
      "from skimage import viewer\n",
      "new_viewer = viewer.ImageViewer(slicedw0_skimg)\n",
      "from skimage.viewer.plugins import lineprofile\n",
      "new_viewer += lineprofile.LineProfile()"
     ],
     "language": "python",
     "metadata": {},
     "outputs": [
      {
       "output_type": "stream",
       "stream": "stdout",
       "text": [
        "Line profile tool\n",
        "+ and - keys or mouse scroll changes width of scan line.\n",
        "Select and drag ends of the scan line to adjust it.\n"
       ]
      },
      {
       "output_type": "display_data",
       "png": "[encoded data removed]"
      },
      {
       "output_type": "display_data",
       "png": "[encoded data removed]"
      }
     ],
     "prompt_number": 68
    },
    {
     "cell_type": "markdown",
     "metadata": {},
     "source": [
      "**QUESTION**: At which b-value corresponds this image ?"
     ]
    },
    {
     "cell_type": "code",
     "collapsed": false,
     "input": [
      "There are also others diffusion MR acquisitions of the subject 1."
     ],
     "language": "python",
     "metadata": {},
     "outputs": []
    },
    {
     "cell_type": "code",
     "collapsed": false,
     "input": [
      "print os.listdir(subj1_rawdatadir)"
     ],
     "language": "python",
     "metadata": {},
     "outputs": [
      {
       "output_type": "stream",
       "stream": "stdout",
       "text": [
        "['dw1.nii.gz', 'dw0.nii.gz', 'dw3.nii.gz', 's12.bvec', 'read_me.txt', 's12.nii.gz', 'dw2.nii.gz', 's12.bval']\n"
       ]
      }
     ],
     "prompt_number": 69
    },
    {
     "cell_type": "markdown",
     "metadata": {},
     "source": [
      "**QUESTIONS:**\n",
      "\n",
      "We can now load these others acquisitions : w1, dw2, dw3, dw4.\n",
      "How are these different images ?\n",
      "\n",
      "What are the main difference between these acquisitions ?\n",
      "Could you sort these acquisition by increased b-value ?\n",
      "\n",
      "What is the utility of the b=0 acquisition ?\n"
     ]
    },
    {
     "cell_type": "code",
     "collapsed": false,
     "input": [
      "img_names_list = ['dw1.nii.gz','dw2.nii.gz','dw3.nii.gz']\n",
      "img_list = []\n",
      "for i,name in enumerate(images_list):\n",
      "    print i, \", \", name\n",
      "    image_filename = os.path.join(subj1_rawdatadir, name)\n",
      "    print image_filename\n",
      "    img_list.append(nib.load(image_filename))\n",
      "                \n"
     ],
     "language": "python",
     "metadata": {},
     "outputs": [
      {
       "output_type": "stream",
       "stream": "stdout",
       "text": [
        "0 ,  dw1.nii.gz\n",
        "/home/brain/tp/data/subject1_rawdata/dw1.nii.gz\n",
        "1 ,  dw2.nii.gz\n",
        "/home/brain/tp/data/subject1_rawdata/dw2.nii.gz\n"
       ]
      }
     ],
     "prompt_number": 76
    },
    {
     "cell_type": "code",
     "collapsed": false,
     "input": [
      "#dw0_img = nib.load(os.path.join(subj1_rawdatadir, 'dw0.nii.gz'))"
     ],
     "language": "python",
     "metadata": {},
     "outputs": [
      {
       "output_type": "stream",
       "stream": "stdout",
       "text": [
        "<class 'skimage.io._io.Image'>\n"
       ]
      }
     ],
     "prompt_number": 41
    },
    {
     "cell_type": "markdown",
     "metadata": {},
     "source": [
      "#### a FAIRE: rajouter visu ADC + FA image #####\n",
      "cf : http://nbviewer.ipython.org/github/matthew-brett/bayfmri/blob/playing-with-images/notebooks/002-loading-images.ipynb\n",
      "\n",
      "Id\u00e9e : montrer ADC CSF > \n",
      "FA WM > FA GM"
     ]
    },
    {
     "cell_type": "markdown",
     "metadata": {},
     "source": [
      "But how do we obtain this maps ?"
     ]
    },
    {
     "cell_type": "markdown",
     "metadata": {},
     "source": []
    },
    {
     "cell_type": "heading",
     "level": 2,
     "metadata": {},
     "source": [
      "DICOM format"
     ]
    },
    {
     "cell_type": "code",
     "collapsed": false,
     "input": [
      "import dicom\n",
      "dcm_seq1 = dicom.read_file(os.path.join(datadir,\"subject1/DICOM/PA0/ST0/SE4/IM0\"))\n",
      "dcm_seq1"
     ],
     "language": "python",
     "metadata": {},
     "outputs": [
      {
       "output_type": "pyout",
       "prompt_number": 49,
       "text": [
        "(0008, 0000) Group Length                        UL: 916\n",
        "(0008, 0005) Specific Character Set              CS: 'ISO_IR 100'\n",
        "(0008, 0008) Image Type                          CS: ['ORIGINAL', 'PRIMARY', 'OTHER']\n",
        "(0008, 0016) SOP Class UID                       UI: MR Image Storage\n",
        "(0008, 0018) SOP Instance UID                    UI: 1.2.840.113619.2.248.114374073796786.8041.1417014513423.14402\n",
        "(0008, 0020) Study Date                          DA: '20141126'\n",
        "(0008, 0021) Series Date                         DA: '20141126'\n",
        "(0008, 0022) Acquisition Date                    DA: '20141126'\n",
        "(0008, 0023) Content Date                        DA: '20141126'\n",
        "(0008, 0030) Study Time                          TM: '152023'\n",
        "(0008, 0031) Series Time                         TM: '161728'\n",
        "(0008, 0032) Acquisition Time                    TM: '161728'\n",
        "(0008, 0033) Content Time                        TM: '161728'\n",
        "(0008, 0050) Accession Number                    SH: ''\n",
        "(0008, 0060) Modality                            CS: 'MR'\n",
        "(0008, 0070) Manufacturer                        LO: 'GE MEDICAL SYSTEMS'\n",
        "(0008, 0080) Institution Name                    LO: 'CH SAINTE ANNE 3T'\n",
        "(0008, 0090) Referring Physician's Name          PN: ''\n",
        "(0008, 1030) Study Description                   LO: 'IMABIO'\n",
        "(0008, 103e) Series Description                  LO: 'DTI4'\n",
        "(0008, 1090) Manufacturer's Model Name           LO: 'DISCOVERY MR750'\n",
        "(0008, 1110)  Referenced Study Sequence   1 item(s) ---- \n",
        "   (0008, 0000) Group Length                        UL: 98\n",
        "   (0008, 1150) Referenced SOP Class UID            UI: Detached Study Management SOP Class\n",
        "   (0008, 1155) Referenced SOP Instance UID         UI: 1.2.840.113619.2.248.114374073796786.8041.1417014475290.2\n",
        "   ---------\n",
        "(0008, 1111)  Referenced Performed Procedure Step Sequence   1 item(s) ---- \n",
        "   (0008, 0000) Group Length                        UL: 98\n",
        "   (0008, 1150) Referenced SOP Class UID            UI: Modality Performed Procedure Step SOP Class\n",
        "   (0008, 1155) Referenced SOP Instance UID         UI: 1.2.840.113619.2.248.114374073796786.8041.1417014475291.3\n",
        "   ---------\n",
        "(0008, 1140)  Referenced Image Sequence   2 item(s) ---- \n",
        "   (0008, 0000) Group Length                        UL: 102\n",
        "   (0008, 1150) Referenced SOP Class UID            UI: MR Image Storage\n",
        "   (0008, 1155) Referenced SOP Instance UID         UI: 1.2.840.113619.2.248.114374073796786.8041.1417014475828.225\n",
        "   ---------\n",
        "   (0008, 0000) Group Length                        UL: 102\n",
        "   (0008, 1150) Referenced SOP Class UID            UI: MR Image Storage\n",
        "   (0008, 1155) Referenced SOP Instance UID         UI: 1.2.840.113619.2.248.114374073796786.8041.1417014475534.106\n",
        "   ---------\n",
        "(0009, 0000) Private Creator                     UL: 20\n",
        "(0009, 0010) Private tag data                    LO: 'GEMS_IDEN_01'\n",
        "(0010, 0000) Group Length                        UL: 80\n",
        "(0010, 0010) Patient's Name                      PN: 'PP114v1'\n",
        "(0010, 0020) Patient ID                          LO: 'AW329869012.252.1417014475'\n",
        "(0010, 0030) Patient's Birth Date                DA: ''\n",
        "(0010, 0040) Patient's Sex                       CS: 'M'\n",
        "(0010, 1030) Patient's Weight                    DS: '102'\n",
        "(0018, 0000) Group Length                        UL: 450\n",
        "(0018, 0020) Scanning Sequence                   CS: ['EP', 'SE']\n",
        "(0018, 0021) Sequence Variant                    CS: 'NONE'\n",
        "(0018, 0022) Scan Options                        CS: ['SAT_GEMS', 'EPI_GEMS', 'ACC_GEMS', 'PFF', 'FS']\n",
        "(0018, 0023) MR Acquisition Type                 CS: '2D'\n",
        "(0018, 0025) Angio Flag                          CS: 'N'\n",
        "(0018, 0050) Slice Thickness                     DS: '2'\n",
        "(0018, 0080) Repetition Time                     DS: '14000'\n",
        "(0018, 0081) Echo Time                           DS: '89.4'\n",
        "(0018, 0083) Number of Averages                  DS: '1'\n",
        "(0018, 0084) Imaging Frequency                   DS: '127.757821'\n",
        "(0018, 0085) Imaged Nucleus                      SH: '1H'\n",
        "(0018, 0086) Echo Number(s)                      IS: '1'\n",
        "(0018, 0087) Magnetic Field Strength             DS: '3'\n",
        "(0018, 0088) Spacing Between Slices              DS: '2'\n",
        "(0018, 0091) Echo Train Length                   IS: '1'\n",
        "(0018, 0093) Percent Sampling                    DS: '100'\n",
        "(0018, 0094) Percent Phase Field of View         DS: '85'\n",
        "(0018, 0095) Pixel Bandwidth                     DS: '1953.12'\n",
        "(0018, 1000) Device Serial Number                LO: ''\n",
        "(0018, 1020) Software Version(s)                 LO: ['24', 'LX', 'MR Software release:DV24.0_R01_1344.a']\n",
        "(0018, 1030) Protocol Name                       LO: 'ImaBio3'\n",
        "(0018, 1088) Heart Rate                          IS: '0'\n",
        "(0018, 1090) Cardiac Number of Images            IS: '0'\n",
        "(0018, 1094) Trigger Window                      IS: '0'\n",
        "(0018, 1100) Reconstruction Diameter             DS: '256'\n",
        "(0018, 1250) Receive Coil Name                   SH: 'HNS Head'\n",
        "(0018, 1310) Acquisition Matrix                  US: [128, 0, 0, 128]\n",
        "(0018, 1312) In-plane Phase Encoding Direction   CS: 'COL'\n",
        "(0018, 1314) Flip Angle                          DS: '90'\n",
        "(0018, 1315) Variable Flip Angle Flag            CS: 'N'\n",
        "(0018, 1316) SAR                                 DS: '0.496533'\n",
        "(0018, 5100) Patient Position                    CS: 'HFS'\n",
        "(0019, 0000) Private Creator                     UL: 1166\n",
        "(0019, 0010) Private tag data                    LO: 'GEMS_ACQU_01'\n",
        "(0019, 100f) [Horiz. Frame of ref.]              DS: '427.799988'\n",
        "(0019, 1011) [Series contrast]                   SS: 0\n",
        "(0019, 1012) [Last pseq]                         SS: 0\n",
        "(0019, 1017) [Series plane]                      SS: 2\n",
        "(0019, 1018) [First scan ras]                    LO: 'I'\n",
        "(0019, 1019) [First scan location]               DS: '-60.6922'\n",
        "(0019, 101a) [Last scan ras]                     LO: 'S'\n",
        "(0019, 101b) [Last scan loc]                     DS: '81.3078'\n",
        "(0019, 101e) [Display field of view]             DS: '217.600006'\n",
        "(0019, 105a) [Acquisition Duration]              FL: 280000032.0\n",
        "(0019, 107d) [Second echo]                       DS: '0'\n",
        "(0019, 107e) [Number of echoes]                  SS: 1\n",
        "(0019, 107f) [Table delta]                       DS: '0.000000'\n",
        "(0019, 1081) [Contiguous]                        SS: 1\n",
        "(0019, 1084) [Peak SAR]                          DS: '0.993066'\n",
        "(0019, 1087) [Cardiac repetition time]           DS: '0.000000'\n",
        "(0019, 1088) [Images per cardiac cycle]          SS: 0\n",
        "(0019, 108a) [Actual receive gain analog]        SS: 13\n",
        "(0019, 108b) [Actual receive gain digital]       SS: 15\n",
        "(0019, 108d) [Delay after trigger]               DS: '0'\n",
        "(0019, 108f) [Swappf]                            SS: 1\n",
        "(0019, 1090) [Pause Interval]                    SS: 0\n",
        "(0019, 1091) [Pause Time]                        DS: '0.000000'\n",
        "(0019, 1092) [Slice offset on freq axis]         SL: 0\n",
        "(0019, 1093) [Auto Prescan Center Frequency]     DS: '1277578210'\n",
        "(0019, 1094) [Auto Prescan Transmit Gain]        SS: 114\n",
        "(0019, 1095) [Auto Prescan Analog receiver gain] SS: 13\n",
        "(0019, 1096) [Auto Prescan Digital receiver gain SS: 15\n",
        "(0019, 1097) [Bitmap defining CVs]               SL: 393760\n",
        "(0019, 109b) [Pulse Sequence Mode]               SS: 1\n",
        "(0019, 109c) [Pulse Sequence Name]               LO: 'epi2'\n",
        "(0019, 109d) [Pulse Sequence Date]               DT: '20131029211811'\n",
        "(0019, 109e) [Internal Pulse Sequence Name]      LO: 'EPI2'\n",
        "(0019, 109f) [Transmitting Coil Type]            SS: 3\n",
        "(0019, 10a0) [Surface Coil Type]                 SS: 0\n",
        "(0019, 10a1) [Extremity Coil flag]               SS: 0\n",
        "(0019, 10a2) [Raw data run number]               SL: 59904\n",
        "(0019, 10a3) [Calibrated Field strength]         UL: 0\n",
        "(0019, 10a4) [SAT fat/water/bone]                SS: 1\n",
        "(0019, 10a7) [User data 0]                       DS: '1.000000'\n",
        "(0019, 10a8) [User data 1]                       DS: '0.000000'\n",
        "(0019, 10a9) [User data 2]                       DS: '0.000000'\n",
        "(0019, 10aa) [User data 3]                       DS: '0.000000'\n",
        "(0019, 10ab) [User data 4]                       DS: '0.000000'\n",
        "(0019, 10ac) [User data 5]                       DS: '1.000000'\n",
        "(0019, 10ad) [User data 6]                       DS: '0.000000'\n",
        "(0019, 10ae) [User data 7]                       DS: '0.000000'\n",
        "(0019, 10af) [User data 8]                       DS: '0.000000'\n",
        "(0019, 10b0) [User data 9]                       DS: '0.000000'\n",
        "(0019, 10b1) [User data 10]                      DS: '0.000000'\n",
        "(0019, 10b2) [User data 11]                      DS: '0.000000'\n",
        "(0019, 10b3) [User data 12]                      DS: '0.000000'\n",
        "(0019, 10b4) [User data 13]                      DS: '0.000000'\n",
        "(0019, 10b5) [User data 14]                      DS: '0.000000'\n",
        "(0019, 10b6) [User data 15]                      DS: '0.000000'\n",
        "(0019, 10b7) [User data 16]                      DS: '0.000000'\n",
        "(0019, 10b8) [User data 17]                      DS: '0.000000'\n",
        "(0019, 10b9) [User data 18]                      DS: '0.000000'\n",
        "(0019, 10ba) [User data 19]                      DS: '0.000000'\n",
        "(0019, 10bb) [User data 20]                      DS: '0.000000'\n",
        "(0019, 10bc) [User data 21]                      DS: '0.000000'\n",
        "(0019, 10bd) [User data 22]                      DS: '0.000000'\n",
        "(0019, 10be) [Projection angle]                  DS: '0.000000'\n",
        "(0019, 10c0) [Saturation planes]                 SS: 0\n",
        "(0019, 10c2) [SAT location R]                    SS: 9990\n",
        "(0019, 10c3) [SAT location L]                    SS: 9990\n",
        "(0019, 10c4) [SAT location A]                    SS: 9990\n",
        "(0019, 10c5) [SAT location P]                    SS: 9990\n",
        "(0019, 10c6) [SAT location H]                    SS: 9990\n",
        "(0019, 10c7) [SAT location F]                    SS: 9990\n",
        "(0019, 10c8) [SAT thickness R/L]                 SS: 0\n",
        "(0019, 10c9) [SAT thickness A/P]                 SS: 0\n",
        "(0019, 10ca) [SAT thickness H/F]                 SS: 0\n",
        "(0019, 10cb) [Phase Contrast flow axis]          SS: 0\n",
        "(0019, 10cc) [Velocity encoding]                 SS: 0\n",
        "(0019, 10cd) [Thickness disclaimer]              SS: 0\n",
        "(0019, 10ce) [Prescan type]                      SS: 2\n",
        "(0019, 10cf) [Prescan status]                    SS: 0\n",
        "(0019, 10d2) [Projection Algorithm]              SS: 0\n",
        "(0019, 10d3) [Projection Algorithm Name]         SH: ''\n",
        "(0019, 10d5) [Fractional echo]                   SS: 3\n",
        "(0019, 10d7) [Cardiac phase number]              SS: 0\n",
        "(0019, 10d8) [Variable echoflag]                 SS: 0\n",
        "(0019, 10d9) [Concatenated SAT {# DTI Diffusion  DS: '0.000000'\n",
        "(0019, 10df) [User data 23 {# DTI Diffusion Dir. DS: '1.000000'\n",
        "(0019, 10e0) [User data 24 {# DTI Diffusion Dir. DS: '18.000000'\n",
        "(0019, 10e2) [Velocity Encode Scale]             DS: '0.000000'\n",
        "(0019, 10f2) [Fast phases]                       SS: 0\n",
        "(0019, 10f9) [Transmit gain]                     DS: '114'\n",
        "(0020, 0000) Group Length                        UL: 366\n",
        "(0020, 000d) Study Instance UID                  UI: 1.2.840.113619.2.248.114374073796786.8041.1417014475290.2\n",
        "(0020, 000e) Series Instance UID                 UI: 1.2.840.113619.2.248.114374073796786.8041.1417014513424.14403\n",
        "(0020, 0010) Study ID                            SH: ''\n",
        "(0020, 0011) Series Number                       IS: '11'\n",
        "(0020, 0012) Acquisition Number                  IS: '1'\n",
        "(0020, 0013) Instance Number                     IS: '1'\n",
        "(0020, 0032) Image Position (Patient)            DS: ['-118.853', '-187.908', '-60.6922']\n",
        "(0020, 0037) Image Orientation (Patient)         DS: ['1', '-0', '0', '-0', '1', '0']\n",
        "(0020, 0052) Frame of Reference UID              UI: 1.2.840.113619.2.248.114374073796786.8041.1417014475291.8\n",
        "(0020, 0060) Laterality                          CS: ''\n",
        "(0020, 1002) Images in Acquisition               IS: '1368'\n",
        "(0020, 1040) Position Reference Indicator        LO: ''\n",
        "(0020, 1041) Slice Location                      DS: '-60.69219589'\n",
        "(0020, 9056) Stack ID                            SH: '1'\n",
        "(0020, 9057) In-Stack Position Number            UL: 1\n",
        "(0021, 0000) Private Creator                     UL: 298\n",
        "(0021, 0010) Private tag data                    LO: 'GEMS_RELA_01'\n",
        "(0021, 1035) [Series from which prescribed]      SS: 1\n",
        "(0021, 1036) [Image from which prescribed]       SS: 27\n",
        "(0021, 1037) [Screen Format]                     SS: 16\n",
        "(0021, 104f) [Locations in acquisition]          SS: 72\n",
        "(0021, 1050) [Graphically prescribed]            SS: 0\n",
        "(0021, 1051) [Rotation from source x rot]        DS: '0.000000'\n",
        "(0021, 1052) [Rotation from source y rot]        DS: '0.000000'\n",
        "(0021, 1053) [Rotation from source z rot]        DS: '0.000000'\n",
        "(0021, 1056) [Num 3D slabs]                      SL: 0\n",
        "(0021, 1057) [Locs per 3D slab]                  SL: 0\n",
        "(0021, 1058) [Overlaps]                          SL: 0\n",
        "(0021, 1059) [Image Filtering 0.5/0.2T]          SL: 0\n",
        "(0021, 105a) [Diffusion direction]               SL: 16\n",
        "(0021, 105b) [Tagging Flip Angle]                DS: '0.000000'\n",
        "(0021, 105c) [Tagging Orientation]               DS: '0.000000'\n",
        "(0021, 105d) [Tag Spacing]                       DS: '0.000000'\n",
        "(0021, 105e) [RTIA_timer]                        DS: '0.000000'\n",
        "(0021, 105f) [Fps]                               DS: '0.000000'\n",
        "(0021, 1081) [Auto window/level alpha]           DS: '0'\n",
        "(0021, 1082) [Auto window/level beta]            DS: '0'\n",
        "(0021, 1083) [Auto window/level window]          DS: '0'\n",
        "(0021, 1084) [Auto window/level level]           DS: '0'\n",
        "(0023, 0000) Private Creator                     UL: 76\n",
        "(0023, 0010) Private tag data                    LO: 'GEMS_STDY_01'\n",
        "(0023, 1070) [Start time(secs) in first axial]   FD: 0.0\n",
        "(0023, 1080)  Private tag data   1 item(s) ---- \n",
        "   (0040, 0000) Group Length                        UL: 8\n",
        "   (0040, 0255) Performed Procedure Type Descriptio LO: ''\n",
        "   ---------\n",
        "(0025, 0000) Private Creator                     UL: 1008\n",
        "(0025, 0010) Private tag data                    LO: 'GEMS_SERS_01'\n",
        "(0025, 1006) [Last pulse sequence used]          SS: 0\n",
        "(0025, 1007) [Images in Series]                  SL: 1368\n",
        "(0025, 1010) [Landmark Counter]                  SL: 0\n",
        "(0025, 1011) [Number of Acquisitions]            SS: 1\n",
        "(0025, 1014) [Indicates no. of updates to header SL: 0\n",
        "(0025, 1017) [Series Complete Flag]              SL: 0\n",
        "(0025, 101a) [Primary Receiver Suite and Host]   SH: 'MRS2OC0'\n",
        "(0025, 101b) [Protocol Data Block (compressed)]  OB: Array of 892 bytes\n",
        "(0027, 0000) Private Creator                     UL: 138\n",
        "(0027, 0010) Private tag data                    LO: 'GEMS_IMAG_01'\n",
        "(0027, 1010) [Scout Type]                        SS: 0\n",
        "(0027, 1030) [Foreign Image Revision]            SH: ''\n",
        "(0027, 1031) [Imaging Mode]                      SS: 1\n",
        "(0027, 1032) [Pulse Sequence]                    SS: 0\n",
        "(0027, 1033) [Imaging Options]                   UL: 1140850720\n",
        "(0027, 1035) [Plane Type]                        SS: 2\n",
        "(0027, 1040) [RAS letter of image location]      SH: 'I'\n",
        "(0027, 1041) [Image location]                    FL: -60.692195892333984\n",
        "(0027, 1060) [Image dimension - X]               FL: 128.0\n",
        "(0027, 1061) [Image dimension - Y]               FL: 128.0\n",
        "(0027, 1062) [Number of Excitations]             FL: 1.0\n",
        "(0028, 0000) Group Length                        UL: 150\n",
        "(0028, 0002) Samples per Pixel                   US: 1\n",
        "(0028, 0004) Photometric Interpretation          CS: 'MONOCHROME2'\n",
        "(0028, 0010) Rows                                US: 256\n",
        "(0028, 0011) Columns                             US: 256\n",
        "(0028, 0030) Pixel Spacing                       DS: ['1', '1']\n",
        "(0028, 0100) Bits Allocated                      US: 16\n",
        "(0028, 0101) Bits Stored                         US: 16\n",
        "(0028, 0102) High Bit                            US: 15\n",
        "(0028, 0103) Pixel Representation                US: 1\n",
        "(0028, 0106) Smallest Image Pixel Value          SS: 0\n",
        "(0028, 0107) Largest Image Pixel Value           SS: 20725\n",
        "(0028, 1050) Window Center                       DS: '10362'\n",
        "(0028, 1051) Window Width                        DS: '20725'\n",
        "(0029, 0000) Private Creator                     UL: 92\n",
        "(0029, 0010) Private tag data                    LO: 'GEMS_IMPS_01'\n",
        "(0029, 1015) [Lower range of Pixels1]            SL: 0\n",
        "(0029, 1016) [Upper range of Pixels1]            SL: 0\n",
        "(0029, 1017) [Lower range of Pixels2]            SL: 0\n",
        "(0029, 1018) [Upper range of Pixels2]            SL: 0\n",
        "(0029, 1034) [Advantage comp. Overflow]          SL: 16384\n",
        "(0029, 1035) [Advantage comp. Underflow]         SL: 0\n",
        "(0038, 0000) Group Length                        UL: 18\n",
        "(0038, 0010) Admission ID                        LO: 'QP-338163'\n",
        "(0040, 0000) Group Length                        UL: 68\n",
        "(0040, 0244) Performed Procedure Step Start Date DA: '20141126'\n",
        "(0040, 0245) Performed Procedure Step Start Time TM: '152017'\n",
        "(0040, 0253) Performed Procedure Step ID         SH: '5988.1417011617'\n",
        "(0040, 0254) Performed Procedure Step Descriptio LO: 'IMABIO'\n",
        "(0043, 0000) Private Creator                     UL: 3348\n",
        "(0043, 0010) Private tag data                    LO: 'GEMS_PARM_01'\n",
        "(0043, 1001) [Bitmap of prescan options]         SS: 5\n",
        "(0043, 1002) [Gradient offset in X]              SS: -3\n",
        "(0043, 1003) [Gradient offset in Y]              SS: -6\n",
        "(0043, 1004) [Gradient offset in Z]              SS: -20\n",
        "(0043, 1006) [Number of EPI shots]               SS: 1\n",
        "(0043, 1007) [Views per segment]                 SS: 0\n",
        "(0043, 1008) [Respiratory rate, bpm]             SS: 0\n",
        "(0043, 1009) [Respiratory trigger point]         SS: 0\n",
        "(0043, 100a) [Type of receiver used]             SS: 1\n",
        "(0043, 100b) [DB/dt Peak rate of change of gradi DS: '0.000000'\n",
        "(0043, 100c) [dB/dt Limits in units of percent]  DS: '100.000000'\n",
        "(0043, 100d) [PSD estimated limit]               DS: '99.889999'\n",
        "(0043, 100e) [PSD estimated limit in tesla per s DS: '84.330002'\n",
        "(0043, 1010) [Window value]                      US: 0\n",
        "(0043, 101d) [Level value]                       SS: 0\n",
        "(0043, 1029) [Histogram tables]                  OB: Array of 2068 bytes\n",
        "(0043, 102c) [Effective echo spacing]            SS: 684\n",
        "(0043, 102e) [String slop field 2]               SH: ''\n",
        "(0043, 102f) [Image Type (real, imaginary, phase SS: 0\n",
        "(0043, 1030) [Vas collapse flag]                 SS: 14\n",
        "(0043, 1032) [Vas flags]                         SS: 2\n",
        "(0043, 1033) [Neg_scanspacing]                   FL: 0.0\n",
        "(0043, 1034) [Offset Frequency]                  IS: '0'\n",
        "(0043, 1035) [User_usage_tag]                    UL: 2\n",
        "(0043, 1036) [User_fill_map_MSW]                 UL: 0\n",
        "(0043, 1037) [User_fill_map_LSW]                 UL: 0\n",
        "(0043, 1038) [User data 25...User data 48 {User4 FL: [1.0, 0.0, 0.0, 0.0, 0.0, 0.0, 0.0, 0.0, 0.0, 0.0, 0.0, 0.0, 0.0, 0.0, 0.0, 0.0, 0.0, 0.0, 0.0, 0.0, 0.0, 0.0, 0.0, 0.0]\n",
        "(0043, 1039) [Slop_int_6... slop_int_9]          IS: ['0', '8', '0', '0']\n",
        "(0043, 1060) [Slop_int_10...slop_int_17]         IS: ['0', '0', '0', '0', '0', '0', '0', '0']\n",
        "(0043, 1061) [Scanner Study Entity UID]          UI: 1.2.840.113619.2.248.114374073796786.8041.1417014475290.2\n",
        "(0043, 106f) [Scanner Table Entry (single gradie DS: ['0', '0', '0', '0']\n",
        "(0043, 107d) [Recon mode flag word]              US: 0\n",
        "(0043, 1080) [Coil ID Data]                      LO: ['A:', 'USAIMh1SYsKCUrCM4FwhXcoL8XFj5ZXt', '52000000112bd50f', 'P1:0', 'P2:', 'MEDRn94nsmlEIbHtqXzYpzfdUYc2hs02', 'f600000010fee80f', 'P3:0', 'P4:0']\n",
        "(0043, 1081) [GE Coil Name]                      LO: 'C-GE_HNS Head'\n",
        "(0043, 1082) [System Configuration Information]  LO: ['SRMode=200', 'GCoilType=8', 'gradientAmp=8920', 'lineFreq=50', 'RFampType=15', 'broadBandXcvr=yes', 'DerateGrad=Yes']\n",
        "(0043, 1083) [Asset R Factors]                   DS: ['0.5', '1']\n",
        "(0043, 1084) [Additional Asset Data]             LO: ['10000', '7', '2', '1', 'asset', 'YES', 'ASSET']\n",
        "(0043, 1088) [PURE Acquisition Calibration Serie UI: 1.2.840.113619.2.248.114374073796786.8041.1417014475292.9\n",
        "(0043, 1089) [Governing Body, dB/dt, and SAR def LO: ['IEC', 'IEC_FIRST_LEVEL', 'IEC_FIRST_LEVEL']\n",
        "(0043, 108a) [Private In-Plane Phase Encoding Di CS: 'COL'\n",
        "(0043, 1090) [SAR Definition]                    LO: ['WHOLE_BODY_6_MIN', 'LOCAL_PEAK_6_MIN', 'PARTIAL_BODY_6MIN']\n",
        "(0043, 1091) [SAR value]                         DS: ['0.4965', '0.993066', '0.496533']\n",
        "(0043, 1095) [Prescan Reuse String]              LO: 'TG/s1'\n",
        "(0043, 1096) [Content Qualification]             CS: 'RESEARCH'\n",
        "(0043, 1097) [Image Filtering Parameters]        LO: ['2', '1', '1.5 0.2 0.2 2 64 0.4 1.05', '1.5 0.2 0.2 2 64 0.4 1.05', '1.5 0.2 0.2 2 64 0.4 1.05', '100', '0', '0', '']\n",
        "(0043, 1098) [ASSET Acquisition Calibration Seri UI: 1.2.840.113619.2.248.114374073796786.8041.1417014475292.9\n",
        "(0043, 109a) [Rx Stack Identification]           IS: '1'\n",
        "(7fe0, 0010) Pixel Data                          OW: Array of 131072 bytes"
       ]
      }
     ],
     "prompt_number": 49
    },
    {
     "cell_type": "heading",
     "level": 2,
     "metadata": {},
     "source": [
      "3. Diffusion data"
     ]
    },
    {
     "cell_type": "markdown",
     "metadata": {},
     "source": [
      "After the MR acquisition, a typical diffusion dataset is composed of :\n",
      "- a bvals file : it is a text file containing the b-value associated with each diffusion orientation\n",
      "- bvecs file : contains the gradient directions associated with each diffusion orientation. Each direction is a vector of 3 dimension indicating gradient direction in the 3 spatial directions x, y, and z.\n",
      "\n",
      "### Number of volumes in the dataset\n",
      "The following code opens bvecs and bvals files as arrays and prints the shape of each array. "
     ]
    },
    {
     "cell_type": "code",
     "collapsed": false,
     "input": [
      "import numpy as np\n",
      "bvecs = np.loadtxt('/home/roca/fsl_course_data/fdt1/\\\n",
      "subj1_preproc/bvecs')\n",
      "print bvecs.shape\n",
      "bvals = np.loadtxt('/home/roca/fsl_course_data/fdt1/\\\n",
      "subj1_preproc/bvals')\n",
      "print bvals.shape\n",
      "bvals"
     ],
     "language": "python",
     "metadata": {},
     "outputs": [
      {
       "output_type": "stream",
       "stream": "stdout",
       "text": [
        "(3, 64)\n",
        "(64,)\n"
       ]
      },
      {
       "metadata": {},
       "output_type": "pyout",
       "prompt_number": 3,
       "text": [
        "array([    0.,  1500.,  1500.,  1505.,  1495.,  1500.,  1495.,  1500.,\n",
        "        1505.,  1495.,  1500.,  1500.,  1500.,  1495.,  1500.,  1500.,\n",
        "           0.,  1500.,  1500.,  1500.,  1500.,  1500.,  1500.,  1500.,\n",
        "        1505.,  1495.,  1500.,  1500.,  1500.,  1505.,  1495.,  1500.,\n",
        "           0.,  1505.,  1500.,  1505.,  1500.,  1500.,  1500.,  1505.,\n",
        "        1495.,  1500.,  1500.,  1500.,  1500.,  1500.,  1500.,  1500.,\n",
        "           0.,  1500.,  1495.,  1500.,  1500.,  1500.,  1500.,  1505.,\n",
        "        1500.,  1500.,  1500.,  1505.,  1495.,  1505.,  1500.,  1500.])"
       ]
      }
     ],
     "prompt_number": 3
    },
    {
     "cell_type": "code",
     "collapsed": false,
     "input": [
      "print bvecs[:,0]\n",
      "print bvecs[:,1]"
     ],
     "language": "python",
     "metadata": {},
     "outputs": [
      {
       "output_type": "stream",
       "stream": "stdout",
       "text": [
        "[ 0.  0.  0.]\n",
        "[ 0.99998355 -0.00333317  0.00466644]\n"
       ]
      }
     ],
     "prompt_number": 4
    },
    {
     "cell_type": "heading",
     "level": 2,
     "metadata": {},
     "source": [
      "Viewing Diffusion-weighted data"
     ]
    },
    {
     "cell_type": "markdown",
     "metadata": {},
     "source": [
      "- Open diffusion data with fslview\n",
      "- Identify which diffusion volume has no diffusion weighting (no diffusion gradient applied).\n",
      "- for one voxel : look at at all the data (CSF voxel) (Tools>Timeseries in fslview)\n",
      "- the same with a white matter voxel\n",
      "- the same with a grey matter voxel\n",
      "\n",
      "###Question :\n",
      "- Describe and explain the difference between these voxels in term of diffusion signal ?\n",
      "- What are the voxels with the most signal attenuation and why ?"
     ]
    },
    {
     "cell_type": "code",
     "collapsed": false,
     "input": [
      "print bvecs[:,38]\n",
      "print bvecs[:,14]"
     ],
     "language": "python",
     "metadata": {},
     "outputs": [
      {
       "ename": "NameError",
       "evalue": "name 'bvecs' is not defined",
       "output_type": "pyerr",
       "traceback": [
        "\u001b[1;31m---------------------------------------------------------------------------\u001b[0m\n\u001b[1;31mNameError\u001b[0m                                 Traceback (most recent call last)",
        "\u001b[1;32m<ipython-input-4-5a8576851f9a>\u001b[0m in \u001b[0;36m<module>\u001b[1;34m()\u001b[0m\n\u001b[1;32m----> 1\u001b[1;33m \u001b[1;32mprint\u001b[0m \u001b[0mbvecs\u001b[0m\u001b[1;33m[\u001b[0m\u001b[1;33m:\u001b[0m\u001b[1;33m,\u001b[0m\u001b[1;36m38\u001b[0m\u001b[1;33m]\u001b[0m\u001b[1;33m\u001b[0m\u001b[0m\n\u001b[0m\u001b[0;32m      2\u001b[0m \u001b[1;32mprint\u001b[0m \u001b[0mbvecs\u001b[0m\u001b[1;33m[\u001b[0m\u001b[1;33m:\u001b[0m\u001b[1;33m,\u001b[0m\u001b[1;36m14\u001b[0m\u001b[1;33m]\u001b[0m\u001b[1;33m\u001b[0m\u001b[0m\n",
        "\u001b[1;31mNameError\u001b[0m: name 'bvecs' is not defined"
       ]
      }
     ],
     "prompt_number": 4
    },
    {
     "cell_type": "markdown",
     "metadata": {},
     "source": [
      "<a id='preprocessings'></a>  <a href='#tableofcontents'>table of contents</a>"
     ]
    },
    {
     "cell_type": "heading",
     "level": 2,
     "metadata": {},
     "source": [
      "6. Preprocessings: correcting for signal artifacts"
     ]
    },
    {
     "cell_type": "markdown",
     "metadata": {},
     "source": [
      "<a id='preproctopup'></a>  <a href='#tableofcontents'>table of contents</a>"
     ]
    },
    {
     "cell_type": "heading",
     "level": 3,
     "metadata": {},
     "source": [
      "6.1 Correction for susceptibility-induced distortions "
     ]
    },
    {
     "cell_type": "markdown",
     "metadata": {},
     "source": [
      "faire ouvrir les nouvelles donnees (imabio)\n",
      "\n",
      "Data are in the directory named \"subject1\" in the data directory defined earlier."
     ]
    },
    {
     "cell_type": "markdown",
     "metadata": {},
     "source": [
      "<a id='preproceddy'></a>  <a href='#tableofcontents'>table of contents</a>"
     ]
    },
    {
     "cell_type": "heading",
     "level": 3,
     "metadata": {},
     "source": [
      "6.2 Correction for eddy current distortions and movement"
     ]
    },
    {
     "cell_type": "code",
     "collapsed": false,
     "input": [
      "data1_dir = os.path.join(datadir,\"subject1/nifti/topup\")\n",
      "os.listdir(data1_dir)"
     ],
     "language": "python",
     "metadata": {},
     "outputs": [
      {
       "output_type": "pyout",
       "prompt_number": 26,
       "text": [
        "['hifi_b0_brain.nii.gz',\n",
        " 'topup_AP_PA_b0_movpar.txt',\n",
        " 's11.bvec',\n",
        " 'topup_AP_PA_b0_fieldcoef.nii.gz',\n",
        " 'AP_PA_b0.nii.gz',\n",
        " 'b0_PA_s11.nii.gz',\n",
        " 'acqparams.txt',\n",
        " 'hifi_b0_brain_mask.nii.gz',\n",
        " 'AP_PA_b0.topup_log',\n",
        " 's12.bvec',\n",
        " 's11.bval',\n",
        " 's12.nii.gz',\n",
        " 'hifi_b0.nii.gz',\n",
        " 'b0_AP_s12.nii.gz',\n",
        " 's12.bval',\n",
        " 's11.nii.gz']"
       ]
      }
     ],
     "prompt_number": 26
    },
    {
     "cell_type": "code",
     "collapsed": false,
     "input": [
      "bvec = np.loadtxt(os.path.join(data1_dir,'s11.bvec'))\n",
      "print bvec.shape\n",
      "bval = np.loadtxt(os.path.join(data1_dir,'s11.bval'))\n",
      "print bval.shape\n",
      "bval"
     ],
     "language": "python",
     "metadata": {},
     "outputs": [
      {
       "output_type": "stream",
       "stream": "stdout",
       "text": [
        "(3, 19)\n",
        "(19,)\n"
       ]
      },
      {
       "output_type": "pyout",
       "prompt_number": 27,
       "text": [
        "array([    0.,  1500.,  1500.,  1500.,  1500.,  1500.,  1500.,  1500.,\n",
        "        1500.,  1500.,  1500.,  1500.,  1500.,  1500.,  1500.,  1500.,\n",
        "        1500.,  1500.,  1500.])"
       ]
      }
     ],
     "prompt_number": 27
    },
    {
     "cell_type": "code",
     "collapsed": false,
     "input": [
      "#index = 2*np.ones(bval.size,dtype = np.int)\n",
      "print bval.size\n",
      "#print index\n",
      "#np.savetxt(os.path.join(data1_dir, \"index.txt\"), index, fmt=\"%i\")\n",
      "index_str = \"2 \"\n",
      "index_str = index_str*bval.size\n",
      "print index_str\n",
      "f=open(os.path.join(data1_dir, \"index.txt\"),\"w\")\n",
      "f.write(index_str)\n",
      "f.close()"
     ],
     "language": "python",
     "metadata": {},
     "outputs": [
      {
       "output_type": "stream",
       "stream": "stdout",
       "text": [
        "19\n",
        "2 2 2 2 2 2 2 2 2 2 2 2 2 2 2 2 2 2 2 \n"
       ]
      }
     ],
     "prompt_number": 55
    },
    {
     "cell_type": "markdown",
     "metadata": {},
     "source": [
      "<a id='registrationdwtot1'></a>  <a href='#tableofcontents'>table of contents</a>"
     ]
    },
    {
     "cell_type": "heading",
     "level": 2,
     "metadata": {},
     "source": [
      "7. Registration between structural and diffusion images"
     ]
    },
    {
     "cell_type": "markdown",
     "metadata": {},
     "source": [
      "<a id='localmodeling'></a>  <a href='#tableofcontents'>table of contents</a>"
     ]
    },
    {
     "cell_type": "heading",
     "level": 2,
     "metadata": {},
     "source": [
      "8. Local modeling of the diffusion phenomenon"
     ]
    },
    {
     "cell_type": "markdown",
     "metadata": {},
     "source": [
      "<a id='tractographymask'></a>  <a href='#tableofcontents'>table of contents</a>"
     ]
    },
    {
     "cell_type": "heading",
     "level": 2,
     "metadata": {},
     "source": [
      "9. Tractography mask"
     ]
    },
    {
     "cell_type": "markdown",
     "metadata": {},
     "source": [
      "<a id='tractography'></a>  <a href='#tableofcontents'>table of contents</a>"
     ]
    },
    {
     "cell_type": "heading",
     "level": 2,
     "metadata": {},
     "source": [
      "10. Tractography"
     ]
    },
    {
     "cell_type": "markdown",
     "metadata": {},
     "source": [
      "##Ipython notebook course on python basics\n",
      "####Could you get what the following code is doing?\n",
      "```python\n",
      "if 2 + 2 == 5:\n",
      "    print(\"Sorry?\")\n",
      "else:\n",
      "    print(\"Bonjour!\")\n",
      "print('The End')\n",
      "```\n"
     ]
    },
    {
     "cell_type": "code",
     "collapsed": false,
     "input": [],
     "language": "python",
     "metadata": {},
     "outputs": []
    },
    {
     "cell_type": "code",
     "collapsed": false,
     "input": [
      "#use this cell to run the example and experiment by yourself\n",
      "print \"toto\""
     ],
     "language": "python",
     "metadata": {},
     "outputs": []
    },
    {
     "cell_type": "markdown",
     "metadata": {},
     "source": [
      "####conditional structure\n",
      "1. only one condition: \"if\" structure\n",
      "```\n",
      "if *logical expression*:\n",
      "....here is the block of instruction that will be executed\n",
      "....only if the logical condition turns out to be true,\n",
      "....otherwise it is siply skipped and the rest of the code is executed\n",
      "```\n",
      " syntaxic stuff to remember:\n",
      " - the identity is tested with **==** and not **=**\n",
      " - put a **:** at the end of the conditional statement\n",
      " - the bloc of instruction is identified by the intentation (shown here with **.** for **space**)\n",
      " - you don't have to skip a line after the conditional structure\n",
      "<br>\n",
      "<br>\n",
      "2. something has to be done is the condition is not fullfiled: \"if else\" structure\n",
      "```\n",
      "if *logical expression*:\n",
      "....here is the block of instruction that will be executed\n",
      "....only if the logical condition turns out to be true\n",
      "else:\n",
      "....here is the block of instruction that will be executed\n",
      "....if the alternative statement is true.\n",
      "```\n",
      "syntaxic stuff to remember:\n",
      " - put a **:** after **else**\n",
      " - beware of the indentation\n",
      "<br>\n",
      "<br>\n",
      "3. well, there should be some alternatives: \"if elif\" structure\n",
      "```\n",
      "if *logical expression*:\n",
      "....here is the block of instruction that will be executed\n",
      "....only if the logical condition turns out to be true\n",
      "elif *another logical expression*:\n",
      "....here is the block of instruction that will be executed\n",
      "....if the alternative statement is true.\n",
      "```\n",
      "syntaxic stuff to remember:\n",
      " - put a **:** at the end of the alternative conditional statement\n",
      " - as usual, beware of the indentation\n",
      "<br>\n",
      "<br>\n",
      "4. of course you can combine those: \"if elif elif else\" structure\n",
      "\n",
      "Try to experiment with such structures"
     ]
    },
    {
     "cell_type": "code",
     "collapsed": false,
     "input": [
      "# for example using the modulo operator **%** to get several alternatives\n",
      "n=9\n",
      "if n%3==0:\n",
      "    print(\"aucun reste de la division par 3\")\n",
      "elif n%3==1:\n",
      "    print(\"le reste de la division par 3 vaut 1\")\n",
      "else:\n",
      "    print(\"le reste de la division par 3 vaut 2\")\n",
      "print(\"Et voil\u00e0 !\")"
     ],
     "language": "python",
     "metadata": {},
     "outputs": []
    },
    {
     "cell_type": "code",
     "collapsed": false,
     "input": [
      "# use this cell to experiment with conditional structure"
     ],
     "language": "python",
     "metadata": {},
     "outputs": [],
     "prompt_number": 1
    },
    {
     "cell_type": "markdown",
     "metadata": {},
     "source": [
      "####Can get what the following code is doing?\n",
      "```python\n",
      "state = 1\n",
      "for i in range(20):\n",
      "    if state == 1: \n",
      "        print('A')\n",
      "    if state == 2:\n",
      "        print('B')\n",
      "    if state == 3:\n",
      "        print('C')\n",
      "    state = state + 1\n",
      "    if state == 4:\n",
      "        state = 1\n",
      "```"
     ]
    },
    {
     "cell_type": "code",
     "collapsed": false,
     "input": [
      "# you can experiment here"
     ],
     "language": "python",
     "metadata": {},
     "outputs": []
    },
    {
     "cell_type": "markdown",
     "metadata": {},
     "source": [
      "####Can get what the following code is doing?\n",
      "```python\n",
      "n = 100\n",
      "while n > 0:\n",
      "    if n%7 == 0:\n",
      "        print(n)\n",
      "    n = n - 1\n",
      "```"
     ]
    },
    {
     "cell_type": "code",
     "collapsed": false,
     "input": [
      "# use this cell to try by your own"
     ],
     "language": "python",
     "metadata": {},
     "outputs": [],
     "prompt_number": 19
    },
    {
     "cell_type": "markdown",
     "metadata": {},
     "source": [
      "####iteration structure\n",
      "1. iteration on a list of values: \"for\" loop\n",
      "```\n",
      "for variable in list:\n",
      "....here is the block of instruction that will be executed,\n",
      "....each time with the variable taking a the new value in the list,\n",
      "....the rest of the code is executed only when no more values in the\n",
      "....list are available\n",
      "```\n",
      " syntaxic stuff to remember:\n",
      " - there are several ways to build a list of values\n",
      " - put a **:** at the end of the **for** statement\n",
      " - the bloc of instruction is identified by the intentation (shown here with **.** for **space**)\n",
      " - you **have** to skip a line after the conditional structure\n",
      "<br>\n",
      "<br>\n",
      "2. iteration with a condition: \"while\" loop\n",
      "```\n",
      "while *logical expression*:\n",
      "....here is the block of instruction that will be executed\n",
      "....again and again until the logical expression turns out\n",
      "....to be false\n",
      "```\n",
      "syntaxic stuff to remember:\n",
      " - put a **:** after the **while** statement\n",
      " - beware of the indentation\n",
      " - beware of infinite loops!\n",
      "   - use a counter, that you have to define before and to increment wihtin the while loop\n",
      "   - use something to interrupt the while loop, cf first course pygame code"
     ]
    },
    {
     "cell_type": "code",
     "collapsed": false,
     "input": [
      "for i in [1,2,3]:\n",
      "    print i\n",
      "    "
     ],
     "language": "python",
     "metadata": {},
     "outputs": [
      {
       "output_type": "stream",
       "stream": "stdout",
       "text": [
        "1\n",
        "2\n",
        "3\n"
       ]
      }
     ],
     "prompt_number": 16
    },
    {
     "cell_type": "code",
     "collapsed": false,
     "input": [
      "for i in ['un','deux','trois']:\n",
      "    print i"
     ],
     "language": "python",
     "metadata": {},
     "outputs": [
      {
       "output_type": "stream",
       "stream": "stdout",
       "text": [
        "un\n",
        "deux\n",
        "trois\n"
       ]
      }
     ],
     "prompt_number": 17
    },
    {
     "cell_type": "code",
     "collapsed": false,
     "input": [],
     "language": "python",
     "metadata": {},
     "outputs": []
    },
    {
     "cell_type": "code",
     "collapsed": false,
     "input": [
      "from sympy import symbols, init_printing\n",
      "init_printing(use_latex=True)\n",
      "alpha = symbols('alpha')\n",
      "alpha**2/3\n",
      "delta = symbols('Delta')\n",
      "delta"
     ],
     "language": "python",
     "metadata": {},
     "outputs": [
      {
       "latex": [
        "$$\\Delta$$"
       ],
       "metadata": {},
       "output_type": "pyout",
       "png": "[encoded data removed]",
       "prompt_number": 17,
       "text": [
        "\u0394"
       ]
      }
     ],
     "prompt_number": 17
    }
   ],
   "metadata": {}
  }
 ]
}