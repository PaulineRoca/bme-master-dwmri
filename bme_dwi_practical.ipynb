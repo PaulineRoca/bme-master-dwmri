{
 "metadata": {
  "name": "bme_dwi_practical",
  "signature": "sha256:1b3d260376eb824684b5fe215e5dd6ccd50adc818190888bbf088ba2947ebe7e"
 },
 "nbformat": 3,
 "nbformat_minor": 0,
 "worksheets": [
  {
   "cells": [
    {
     "cell_type": "heading",
     "level": 1,
     "metadata": {},
     "source": [
      "Tractography: from diffusion-weighted MRI to brain\n",
      "anatomical connectivity"
     ]
    },
    {
     "cell_type": "markdown",
     "metadata": {},
     "source": [
      "Pauline Roca, Sainte Anne"
     ]
    },
    {
     "cell_type": "markdown",
     "metadata": {},
     "source": [
      "UE 3.11b \u2013 Advanced NeuroImaging Data\n",
      "Modeling and Analysis <a id='tableofcontents'></a>"
     ]
    },
    {
     "cell_type": "markdown",
     "metadata": {},
     "source": [
      "###<a href='#Whydowedodiffusion'>1. Why do we do diffusion MRI ?</a>###\n",
      "\n",
      "###<a href='#diffusionprinciple'>2. Diffusion principle</a>###\n",
      "\n",
      "###<a href='#diffusioninthebrain'>3. Diffusion in the brain</a>###\n",
      "\n",
      "###<a href='#diffusionmrsignal'>4. Diffusion MR signal</a>###\n",
      "\n",
      "###<a href='#viewingdiffusiondata'>5. Viewing diffusion-weighted data in python</a>###\n",
      "\n",
      "###<a href='#preprocessings'>6. Preprocessings: correcting for artifacts</a>###\n",
      "\n",
      "###<a href='#preproctopup'>6.1 Correction for susceptibility-induced distortions </a>###\n",
      "\n",
      "###<a href='#preproceddy'>6.2 Correction for eddy current distortions and movement</a>###\n",
      "\n",
      "###<a href='#registrationdwtot1'>7. Registration between structural and diffusion images</a>###\n",
      "\n",
      "###<a href='#localmodeling'>8. Local modeling of the diffusion phenomenon</a>###\n",
      "\n",
      "###<a href='#tractographymask'>9. Tractography mask</a>###\n",
      "\n",
      "###<a href='#tractography'>10. Tractography</a>###\n",
      "\n",
      "\n",
      "\n"
     ]
    },
    {
     "cell_type": "markdown",
     "metadata": {},
     "source": [
      "<a id='Whydowedodiffusion'></a>"
     ]
    },
    {
     "cell_type": "heading",
     "level": 2,
     "metadata": {},
     "source": [
      "1. Why do we do diffusion MRI ? "
     ]
    },
    {
     "cell_type": "markdown",
     "metadata": {},
     "source": [
      "to quantify brain white matter integrity or damage to brain structural connectivity.\n",
      "\n",
      "Aim : Given one region of interest, find the connexions of this region towards all the other brain regions.  "
     ]
    },
    {
     "cell_type": "markdown",
     "metadata": {},
     "source": [
      "<a id='diffusionprinciple'></a>"
     ]
    },
    {
     "cell_type": "heading",
     "level": 2,
     "metadata": {},
     "source": [
      "2. Diffusion principle"
     ]
    },
    {
     "cell_type": "markdown",
     "metadata": {},
     "source": [
      "Diffusion = thermally-driven random motion (brownian motion)\n",
      "\n",
      "[Einstein 1905] :  <$x^2$>=$6Dt$\n",
      "\n",
      "<$x^2$> = mean squared displacement, $D$ = diffusion coefficient, $t$ = time\n",
      "\n",
      "The mean squared displacement of an ensemble of molecules is proportional to time and the diffusion coefficient.\n",
      "\n"
     ]
    },
    {
     "cell_type": "markdown",
     "metadata": {},
     "source": [
      "- Free diffusion: isotropic: a water molecule has the same probability of movement in all spatial directions\n",
      "- Diffusional processes are influenced by the geometrical structure of the environment"
     ]
    },
    {
     "cell_type": "markdown",
     "metadata": {},
     "source": [
      "<a id='diffusioninthebrain'></a> "
     ]
    },
    {
     "cell_type": "heading",
     "level": 2,
     "metadata": {},
     "source": [
      "3. Diffusion in the brain"
     ]
    },
    {
     "cell_type": "markdown",
     "metadata": {},
     "source": [
      "In biological tissus, diffusion is restricted by cell membranes, tissue boundaries, etc.\n",
      "\n",
      "\u2192 Apparent Diffusion Coefficient (ADC)\n",
      "\n",
      "At the brain temperature: ADC = $3e10^{-9}m^2/s$\n",
      "\n",
      "In white matter, diffusion is anisotropic: the diffusion of water molecules is restricted perpendicular to the fiber bundles\n",
      "\n",
      "&rarr; If you have an estimation about the probability of diffusion of water molecule in 3D space, we can estimate the orientation of fiber bundles."
     ]
    },
    {
     "cell_type": "markdown",
     "metadata": {},
     "source": [
      "<a id='diffusionmrsignal'></a>  <a href='#tableofcontents'>table of contents</a>"
     ]
    },
    {
     "cell_type": "heading",
     "level": 2,
     "metadata": {},
     "source": [
      "4. Diffusion MRI signal"
     ]
    },
    {
     "cell_type": "markdown",
     "metadata": {},
     "source": [
      "To achieve diffusion-weighting along a direction **x**, we apply strong magnetic field gradients along **x**.\n",
      "[Stejskal & Tanner, 1965]"
     ]
    },
    {
     "cell_type": "code",
     "collapsed": false,
     "input": [
      "from IPython.display import Image\n",
      "i = Image(filename='files/stejskal-tanner1965_BergBook_2014.jpg')\n",
      "i"
     ],
     "language": "python",
     "metadata": {},
     "outputs": [
      {
       "jpeg": "[encoded data removed]",
       "output_type": "pyout",
       "prompt_number": 3,
       "text": [
        "<IPython.core.display.Image at 0x3b1c110>"
       ]
      }
     ],
     "prompt_number": 3
    },
    {
     "cell_type": "markdown",
     "metadata": {},
     "source": [
      "- if particles remain stationary, the MR signal is not modified by the gradient\n",
      "- if particles diffuse along **x** during the diffusion time $\\Delta$, a ***signal attenuation*** is observed compared to the signal without any gradient (G = 0).\n",
      "\n",
      "Signal attenuation (SA): $SA=e^{-b.ADC}$\n",
      "where b is called the b-value and depends on gradient intensity and diffusion time. b determines the diffusion weighting of the of the acquistion.\n",
      "\n",
      "**WARNING ! trade-off between diffusion weighting and signal to noise ratio !!!**"
     ]
    },
    {
     "cell_type": "markdown",
     "metadata": {},
     "source": [
      "<a id='viewingdiffusiondata'></a>  <a href='#tableofcontents'>table of contents</a>"
     ]
    },
    {
     "cell_type": "heading",
     "level": 2,
     "metadata": {},
     "source": [
      "5. Diffusion MR scanner data"
     ]
    },
    {
     "cell_type": "heading",
     "level": 3,
     "metadata": {},
     "source": [
      "5.1. Familiarise yourself with diffusion data and python"
     ]
    },
    {
     "cell_type": "markdown",
     "metadata": {},
     "source": [
      "### GOALS : \n",
      "\n",
      "- to become familiar with loading, visualization of diffusion MR images in python\n",
      "\n",
      "- to understand diffusion phenomenon, diffusion in brain tissues and the consequences on diffusion MR signal"
     ]
    },
    {
     "cell_type": "markdown",
     "metadata": {},
     "source": [
      "### After the MR acquisition, a typical diffusion dataset is composed of :\n",
      "\n",
      "- a dwidata file : it is a 4D image containing diffusion MR volumes for different diffusion-weights and orientations\n",
      "\n",
      "- a bvals file : it is a text file containing the b-value associated with each diffusion orientation\n",
      "\n",
      "- bvecs file : contains the gradient directions associated with each diffusion orientation. Each direction is a\n",
      "vector of 3 dimension indicating gradient direction in the 3 spatial directions x, y, and z.\n",
      "\n",
      "\n",
      "Few words about DICOM files and nifti conversion: Application Menu \u2192 NeuroDebian \u2192 Medical Imaging \u2192  dcm2nii \n",
      "\n",
      "### Let's look at some diffusion data in python ! :\n"
     ]
    },
    {
     "cell_type": "markdown",
     "metadata": {},
     "source": [
      "The data are in \"~/tp/ftd1/subj1_preproc\".\n",
      "The following code defines data1_dirname which holds this directory."
     ]
    },
    {
     "cell_type": "code",
     "collapsed": false,
     "input": [
      "import numpy as np # Python package for handling arrays\n",
      "from os.path import expanduser, join\n",
      "home = expanduser('~')\n",
      "data1_dirname = join(home,'tp','fdt1','subj1_preproc')\n",
      "print data1_dirname"
     ],
     "language": "python",
     "metadata": {},
     "outputs": [
      {
       "output_type": "stream",
       "stream": "stdout",
       "text": [
        "/home/brain/tp/fdt1/subj1_preproc\n"
       ]
      }
     ],
     "prompt_number": 35
    },
    {
     "cell_type": "markdown",
     "metadata": {},
     "source": [
      "Let's have a look at what's in the dataset for subject 1 :"
     ]
    },
    {
     "cell_type": "code",
     "collapsed": false,
     "input": [
      "print os.listdir(data1_dirname)"
     ],
     "language": "python",
     "metadata": {},
     "outputs": [
      {
       "output_type": "stream",
       "stream": "stdout",
       "text": [
        "['pre_baked', 'bvecs', 'bvals', 'nodif_PA.nii.gz', 'index.txt', 'acqparams.txt', 'dwidata.nii.gz']\n"
       ]
      }
     ],
     "prompt_number": 36
    },
    {
     "cell_type": "markdown",
     "metadata": {},
     "source": [
      "Here the complete filenames of the three files we are interested in :"
     ]
    },
    {
     "cell_type": "code",
     "collapsed": false,
     "input": [
      "dwi_fname = join(data1_dirname,'dwidata.nii.gz')\n",
      "print dwi_fname\n",
      "bvecs_fname = join(data1_dirname ,'bvecs')\n",
      "print bvecs_fname\n",
      "bvals_fname = join(data1_dirname,'bvals')\n",
      "print bvals_fname"
     ],
     "language": "python",
     "metadata": {},
     "outputs": [
      {
       "output_type": "stream",
       "stream": "stdout",
       "text": [
        "/home/brain/tp/fdt1/subj1_preproc/dwidata.nii.gz\n",
        "/home/brain/tp/fdt1/subj1_preproc/bvecs\n",
        "/home/brain/tp/fdt1/subj1_preproc/bvals\n"
       ]
      }
     ],
     "prompt_number": 42
    },
    {
     "cell_type": "markdown",
     "metadata": {},
     "source": [
      "This first file is in [nifti](http://nifti.nimh.nih.gov/) format, a standard neuroimaging format widely used in the neuroscientific community.\n",
      "\n",
      "It contains an image (an array of numbers) and some metadata.\n",
      "\n",
      "The [nibabel](http://nipy.org/nibabel/) module enables us to read this kind of neuroimaging-specific format :"
     ]
    },
    {
     "cell_type": "code",
     "collapsed": false,
     "input": [
      "import nibabel as nib\n",
      "img = nib.load(dwi_fname)\n",
      "data = img.get_data()"
     ],
     "language": "python",
     "metadata": {},
     "outputs": [
      {
       "output_type": "stream",
       "stream": "stdout",
       "text": [
        "data type : <type 'numpy.ndarray'>\n",
        "data shape :  (96, 96, 64, 64)\n"
       ]
      }
     ],
     "prompt_number": 71
    },
    {
     "cell_type": "markdown",
     "metadata": {},
     "source": [
      "You can check the type of 'data' object and its shape by doing :"
     ]
    },
    {
     "cell_type": "code",
     "collapsed": false,
     "input": [
      "print \"data type : \", type(data)\n",
      "print \"data shape : \", data.shape"
     ],
     "language": "python",
     "metadata": {},
     "outputs": [
      {
       "output_type": "stream",
       "stream": "stdout",
       "text": [
        "data type :  <type 'numpy.ndarray'>\n",
        "data shape :  (96, 96, 64, 64)\n"
       ]
      }
     ],
     "prompt_number": 72
    },
    {
     "cell_type": "markdown",
     "metadata": {},
     "source": [
      "'data' is a 4D array where the first three dimensions are the x, y, z coordinates and the last the number of acquired volumes."
     ]
    },
    {
     "cell_type": "markdown",
     "metadata": {},
     "source": [
      "The dimensions of each voxel (element of volume) can be check like this :"
     ]
    },
    {
     "cell_type": "code",
     "collapsed": false,
     "input": [
      "print(img.get_header().get_zooms()[:3])"
     ],
     "language": "python",
     "metadata": {},
     "outputs": [
      {
       "output_type": "stream",
       "stream": "stdout",
       "text": [
        "(2.0, 2.0, 2.0)\n"
       ]
      }
     ],
     "prompt_number": 51
    },
    {
     "cell_type": "markdown",
     "metadata": {},
     "source": [
      "You can visualize a slice of the first volume using [matplotlib](http://matplotlib.org/), in the following way :"
     ]
    },
    {
     "cell_type": "code",
     "collapsed": false,
     "input": [
      "import matplotlib.pyplot as plt # To make 2D plots\n",
      "plt.imshow(data[:, :, 32, 0].T, cmap='gray', origin= 'lower')"
     ],
     "language": "python",
     "metadata": {},
     "outputs": [
      {
       "output_type": "pyout",
       "prompt_number": 54,
       "text": [
        "<matplotlib.image.AxesImage at 0x55449d0>"
       ]
      },
      {
       "output_type": "display_data",
       "png": "[encoded data removed]"
      }
     ],
     "prompt_number": 54
    },
    {
     "cell_type": "markdown",
     "metadata": {},
     "source": [
      "To visualize two images side by side :"
     ]
    },
    {
     "cell_type": "code",
     "collapsed": false,
     "input": [
      "plt.figure()\n",
      "plt.subplot(1,2,1)\n",
      "plt.imshow(data[:, :, 32, 0].T, cmap='gray', origin= 'lower')\n",
      "plt.subplot(1,2,2)\n",
      "plt.imshow(data[:, :, 32, 1].T, cmap='gray', origin= 'lower')\n",
      "plt.show()"
     ],
     "language": "python",
     "metadata": {},
     "outputs": [
      {
       "output_type": "display_data",
       "png": "[encoded data removed]"
      }
     ],
     "prompt_number": 60
    },
    {
     "cell_type": "markdown",
     "metadata": {},
     "source": [
      "### QUESTION : \n",
      "- What's the differences between these two images ?\n",
      "- Can you explain why ?"
     ]
    },
    {
     "cell_type": "code",
     "collapsed": false,
     "input": [
      "# Please answer the question in the cell below :"
     ],
     "language": "python",
     "metadata": {},
     "outputs": [],
     "prompt_number": 61
    },
    {
     "cell_type": "markdown",
     "metadata": {},
     "source": []
    },
    {
     "cell_type": "markdown",
     "metadata": {},
     "source": [
      "### Now you can play with python in order to visualize :\n",
      "\n",
      "1. different slices of the same volume (coronal or sagittal for example)\n",
      "\n",
      "2. the values in a given voxel for all the diffusion weighted volumes\n",
      "\n",
      "In order to have help on python functions, try tab completion.\n",
      "For example, to have the python help on \"plt.subplot\" method, try tab completion on:\n",
      "\n",
      "plt.subplot(\n",
      "\n",
      "in a cell of code as follow:"
     ]
    },
    {
     "cell_type": "code",
     "collapsed": false,
     "input": [
      "# Cell to play with matplotlib and diffusion data\n",
      "plt.subplot("
     ],
     "language": "python",
     "metadata": {},
     "outputs": [],
     "prompt_number": 76
    },
    {
     "cell_type": "markdown",
     "metadata": {},
     "source": [
      "### Now you can open the same dwi volume using FSL\n",
      "\n",
      "[FSL](http://fsl.fmrib.ox.ac.uk/fsl/fslwiki/) is a neuroimaging software dedicated to FMRI, MRI and DTI brain imaging data.\n",
      "You will find FLS viewer in Application Menu \u2192 NeuroDebian \u2192 Medical Imaging \u2192  FSLview"
     ]
    },
    {
     "cell_type": "markdown",
     "metadata": {},
     "source": [
      "- Open diffusion data with fslview\n",
      "- Identify which diffusion volume has no diffusion weighting (no diffusion gradient applied).\n",
      "- for one voxel : look at all the data (CSF voxel) (Tools>Timeseries in fslview)\n",
      "- the same with a white matter voxel\n",
      "- the same with a grey matter voxel\n",
      "\n",
      "###Question :\n",
      "- Describe and explain the difference between these voxels in term of diffusion signal ?\n",
      "- What are the voxels with the most signal attenuation and why ?"
     ]
    },
    {
     "cell_type": "markdown",
     "metadata": {},
     "source": [
      "You can then load the b-value files and bvecs files using [dipy](http://nipy.org/dipy/index.html), a python module dedicated to diffusion MRI analysis :"
     ]
    },
    {
     "cell_type": "code",
     "collapsed": false,
     "input": [
      "from dipy.io import read_bvals_bvecs\n",
      "bvals, bvecs = read_bvals_bvecs(bvals_fname, bvecs_fname)"
     ],
     "language": "python",
     "metadata": {},
     "outputs": [],
     "prompt_number": 78
    },
    {
     "cell_type": "markdown",
     "metadata": {},
     "source": [
      "You can then check if your previous answers were correct or not by looking at b-vales and bvecs in python :"
     ]
    },
    {
     "cell_type": "code",
     "collapsed": false,
     "input": [
      "# Cell to look at bval and bvecs"
     ],
     "language": "python",
     "metadata": {},
     "outputs": [],
     "prompt_number": 79
    },
    {
     "cell_type": "heading",
     "level": 3,
     "metadata": {},
     "source": [
      "5.2 Exercise :"
     ]
    },
    {
     "cell_type": "markdown",
     "metadata": {},
     "source": [
      "Load the Sherbrooke data set of dipy located in '~/.dipy/sherbrooke_3shell'\n",
      "\n",
      "- Describe this dataset (dimensions, number of orientations, b-values, spatial resolution). \n",
      "\n",
      "- Visualize this dataset using FSLview. \n",
      "\n",
      "- With the help of dipy (to get the b-values), FSview or matplotlib (to visualize the data), what can you say about the signal-to-noise ratio and the b-value ? Try to explain your observations thanks to the diffusion theory."
     ]
    },
    {
     "cell_type": "code",
     "collapsed": false,
     "input": [
      "sherbrookedata_dirname = join(home, '.dipy', 'sherbrooke_3shell')\n",
      "print sherbrookedata_dirname\n",
      "print os.listdir(sherbrookedata_dirname)"
     ],
     "language": "python",
     "metadata": {},
     "outputs": [
      {
       "output_type": "stream",
       "stream": "stdout",
       "text": [
        "/home/brain/.dipy/sherbrooke_3shell\n",
        "['HARDI193.bvec', 'HARDI193.bval', 'HARDI193.nii.gz']\n"
       ]
      }
     ],
     "prompt_number": 83
    },
    {
     "cell_type": "code",
     "collapsed": false,
     "input": [
      "img = nib.load(join(sherbrookedata_dirname, 'HARDI193.nii.gz'))\n",
      "data = img.get_data()"
     ],
     "language": "python",
     "metadata": {},
     "outputs": [],
     "prompt_number": 86
    },
    {
     "cell_type": "code",
     "collapsed": false,
     "input": [
      "print data.shape"
     ],
     "language": "python",
     "metadata": {},
     "outputs": [
      {
       "output_type": "stream",
       "stream": "stdout",
       "text": [
        "(128, 128, 60, 193)\n"
       ]
      }
     ],
     "prompt_number": 87
    },
    {
     "cell_type": "code",
     "collapsed": false,
     "input": [
      "bvals_fname = join(sherbrookedata_dirname, 'HARDI193.bval')\n",
      "bvecs_fname = join(sherbrookedata_dirname, 'HARDI193.bvec')\n",
      "bvals, bvecs = read_bvals_bvecs(bvals_fname, bvecs_fname)\n",
      "print bvals\n",
      "bvals."
     ],
     "language": "python",
     "metadata": {},
     "outputs": [
      {
       "output_type": "stream",
       "stream": "stdout",
       "text": [
        "[    0.  1000.  1000.  1000.  1000.  1000.  1000.  1000.  1000.  1000.\n",
        "  1000.  1000.  1000.  1000.  1000.  1000.  1000.  1000.  1000.  1000.\n",
        "  1000.  1000.  1000.  1000.  1000.  1000.  1000.  1000.  1000.  1000.\n",
        "  1000.  1000.  1000.  1000.  1000.  1000.  1000.  1000.  1000.  1000.\n",
        "  1000.  1000.  1000.  1000.  1000.  1000.  1000.  1000.  1000.  1000.\n",
        "  1000.  1000.  1000.  1000.  1000.  1000.  1000.  1000.  1000.  1000.\n",
        "  1000.  1000.  1000.  1000.  1000.  2000.  2000.  2000.  2000.  2000.\n",
        "  2000.  2000.  2000.  2000.  2000.  2000.  2000.  2000.  2000.  2000.\n",
        "  2000.  2000.  2000.  2000.  2000.  2000.  2000.  2000.  2000.  2000.\n",
        "  2000.  2000.  2000.  2000.  2000.  2000.  2000.  2000.  2000.  2000.\n",
        "  2000.  2000.  2000.  2000.  2000.  2000.  2000.  2000.  2000.  2000.\n",
        "  2000.  2000.  2000.  2000.  2000.  2000.  2000.  2000.  2000.  2000.\n",
        "  2000.  2000.  2000.  2000.  2000.  2000.  2000.  2000.  2000.  3500.\n",
        "  3500.  3500.  3500.  3500.  3500.  3500.  3500.  3500.  3500.  3500.\n",
        "  3500.  3500.  3500.  3500.  3500.  3500.  3500.  3500.  3500.  3500.\n",
        "  3500.  3500.  3500.  3500.  3500.  3500.  3500.  3500.  3500.  3500.\n",
        "  3500.  3500.  3500.  3500.  3500.  3500.  3500.  3500.  3500.  3500.\n",
        "  3500.  3500.  3500.  3500.  3500.  3500.  3500.  3500.  3500.  3500.\n",
        "  3500.  3500.  3500.  3500.  3500.  3500.  3500.  3500.  3500.  3500.\n",
        "  3500.  3500.  3500.]\n"
       ]
      }
     ],
     "prompt_number": 88
    },
    {
     "cell_type": "markdown",
     "metadata": {},
     "source": [
      "<a id='preprocessings'></a>  <a href='#tableofcontents'>table of contents</a>"
     ]
    },
    {
     "cell_type": "heading",
     "level": 2,
     "metadata": {},
     "source": [
      "6. Preprocessings: correcting for signal artifacts"
     ]
    },
    {
     "cell_type": "markdown",
     "metadata": {},
     "source": [
      "<a id='preproctopup'></a>  <a href='#tableofcontents'>table of contents</a>"
     ]
    },
    {
     "cell_type": "heading",
     "level": 3,
     "metadata": {},
     "source": [
      "6.1 Correction for susceptibility-induced distortions "
     ]
    },
    {
     "cell_type": "markdown",
     "metadata": {},
     "source": [
      "faire ouvrir les nouvelles donnees (imabio)\n",
      "\n",
      "Data are in the directory named \"subject1\" in the data directory defined earlier."
     ]
    },
    {
     "cell_type": "markdown",
     "metadata": {},
     "source": [
      "<a id='preproceddy'></a>  <a href='#tableofcontents'>table of contents</a>"
     ]
    },
    {
     "cell_type": "heading",
     "level": 3,
     "metadata": {},
     "source": [
      "6.2 Correction for eddy current distortions and movement"
     ]
    },
    {
     "cell_type": "code",
     "collapsed": false,
     "input": [
      "data1_dir = os.path.join(datadir,\"subject1/nifti/topup\")\n",
      "os.listdir(data1_dir)"
     ],
     "language": "python",
     "metadata": {},
     "outputs": []
    },
    {
     "cell_type": "code",
     "collapsed": false,
     "input": [
      "bvec = np.loadtxt(os.path.join(data1_dir,'s11.bvec'))\n",
      "print bvec.shape\n",
      "bval = np.loadtxt(os.path.join(data1_dir,'s11.bval'))\n",
      "print bval.shape\n",
      "bval"
     ],
     "language": "python",
     "metadata": {},
     "outputs": []
    },
    {
     "cell_type": "code",
     "collapsed": false,
     "input": [
      "#index = 2*np.ones(bval.size,dtype = np.int)\n",
      "print bval.size\n",
      "#print index\n",
      "#np.savetxt(os.path.join(data1_dir, \"index.txt\"), index, fmt=\"%i\")\n",
      "index_str = \"2 \"\n",
      "index_str = index_str*bval.size\n",
      "print index_str\n",
      "f=open(os.path.join(data1_dir, \"index.txt\"),\"w\")\n",
      "f.write(index_str)\n",
      "f.close()"
     ],
     "language": "python",
     "metadata": {},
     "outputs": []
    },
    {
     "cell_type": "markdown",
     "metadata": {},
     "source": [
      "<a id='registrationdwtot1'></a>  <a href='#tableofcontents'>table of contents</a>"
     ]
    },
    {
     "cell_type": "heading",
     "level": 2,
     "metadata": {},
     "source": [
      "7. Registration between structural and diffusion images"
     ]
    },
    {
     "cell_type": "markdown",
     "metadata": {},
     "source": [
      "<a id='localmodeling'></a>  <a href='#tableofcontents'>table of contents</a>"
     ]
    },
    {
     "cell_type": "heading",
     "level": 2,
     "metadata": {},
     "source": [
      "8. Local modeling of the diffusion phenomenon"
     ]
    },
    {
     "cell_type": "markdown",
     "metadata": {},
     "source": [
      "<a id='tractographymask'></a>  <a href='#tableofcontents'>table of contents</a>"
     ]
    },
    {
     "cell_type": "heading",
     "level": 2,
     "metadata": {},
     "source": [
      "9. Tractography mask"
     ]
    },
    {
     "cell_type": "markdown",
     "metadata": {},
     "source": [
      "<a id='tractography'></a>  <a href='#tableofcontents'>table of contents</a>"
     ]
    },
    {
     "cell_type": "heading",
     "level": 2,
     "metadata": {},
     "source": [
      "10. Tractography"
     ]
    }
   ],
   "metadata": {}
  }
 ]
}