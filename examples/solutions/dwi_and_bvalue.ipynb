{
 "metadata": {
  "name": "dwi_and_bvalue",
  "signature": "sha256:1b3d260376eb824684b5fe215e5dd6ccd50adc818190888bbf088ba2947ebe7e"
 },
 "nbformat": 3,
 "nbformat_minor": 0,
 "worksheets": [
  {
   "cells": [
    {
     "cell_type": "heading",
     "level": 2,
     "metadata": {},
     "source": [
      "5. Diffusion MR scanner data"
     ]
    },
    {
     "cell_type": "heading",
     "level": 3,
     "metadata": {},
     "source": [
      "5.2 Exercise :"
     ]
    },
    {
     "cell_type": "markdown",
     "metadata": {},
     "source": [
      "Load the Sherbrooke data set of dipy located in '~/.dipy/sherbrooke_3shell'\n",
      "\n",
      "- Describe this dataset (dimensions, number of orientations, b-values, spatial resolution). \n",
      "\n",
      "- Visualize this dataset using FSLview. \n",
      "\n",
      "- With the help of dipy (to get the b-values), FSview or matplotlib (to visualize the data), what can you say about the signal-to-noise ratio and the b-value ?"
     ]
    },
    {
     "cell_type": "code",
     "collapsed": false,
     "input": [
      "import os\n",
      "import nibabel as nib\n",
      "from dipy.io import read_bvals_bvecs"
     ],
     "language": "python",
     "metadata": {},
     "outputs": [],
     "prompt_number": 9
    },
    {
     "cell_type": "code",
     "collapsed": false,
     "input": [
      "home = os.path.expanduser('~')\n",
      "sherbrookedata_dirname = os.path.join(home, '.dipy', 'sherbrooke_3shell')\n",
      "print sherbrookedata_dirname\n",
      "print os.listdir(sherbrookedata_dirname)"
     ],
     "language": "python",
     "metadata": {},
     "outputs": []
    },
    {
     "cell_type": "code",
     "collapsed": false,
     "input": [
      "import nibabel as nib\n",
      "img = nib.load(join(sherbrookedata_dirname, 'HARDI193.nii.gz'))\n",
      "data = img.get_data()"
     ],
     "language": "python",
     "metadata": {},
     "outputs": [],
     "prompt_number": 6
    },
    {
     "cell_type": "code",
     "collapsed": false,
     "input": [
      "print data.shape"
     ],
     "language": "python",
     "metadata": {},
     "outputs": [
      {
       "output_type": "stream",
       "stream": "stdout",
       "text": [
        "(128, 128, 60, 193)\n"
       ]
      }
     ],
     "prompt_number": 7
    },
    {
     "cell_type": "code",
     "collapsed": false,
     "input": [
      "bvals_fname = join(sherbrookedata_dirname, 'HARDI193.bval')\n",
      "bvecs_fname = join(sherbrookedata_dirname, 'HARDI193.bvec')\n",
      "bvals, bvecs = read_bvals_bvecs(bvals_fname, bvecs_fname)\n",
      "print bvals"
     ],
     "language": "python",
     "metadata": {},
     "outputs": [
      {
       "output_type": "stream",
       "stream": "stdout",
       "text": [
        "[    0.  1000.  1000.  1000.  1000.  1000.  1000.  1000.  1000.  1000.\n",
        "  1000.  1000.  1000.  1000.  1000.  1000.  1000.  1000.  1000.  1000.\n",
        "  1000.  1000.  1000.  1000.  1000.  1000.  1000.  1000.  1000.  1000.\n",
        "  1000.  1000.  1000.  1000.  1000.  1000.  1000.  1000.  1000.  1000.\n",
        "  1000.  1000.  1000.  1000.  1000.  1000.  1000.  1000.  1000.  1000.\n",
        "  1000.  1000.  1000.  1000.  1000.  1000.  1000.  1000.  1000.  1000.\n",
        "  1000.  1000.  1000.  1000.  1000.  2000.  2000.  2000.  2000.  2000.\n",
        "  2000.  2000.  2000.  2000.  2000.  2000.  2000.  2000.  2000.  2000.\n",
        "  2000.  2000.  2000.  2000.  2000.  2000.  2000.  2000.  2000.  2000.\n",
        "  2000.  2000.  2000.  2000.  2000.  2000.  2000.  2000.  2000.  2000.\n",
        "  2000.  2000.  2000.  2000.  2000.  2000.  2000.  2000.  2000.  2000.\n",
        "  2000.  2000.  2000.  2000.  2000.  2000.  2000.  2000.  2000.  2000.\n",
        "  2000.  2000.  2000.  2000.  2000.  2000.  2000.  2000.  2000.  3500.\n",
        "  3500.  3500.  3500.  3500.  3500.  3500.  3500.  3500.  3500.  3500.\n",
        "  3500.  3500.  3500.  3500.  3500.  3500.  3500.  3500.  3500.  3500.\n",
        "  3500.  3500.  3500.  3500.  3500.  3500.  3500.  3500.  3500.  3500.\n",
        "  3500.  3500.  3500.  3500.  3500.  3500.  3500.  3500.  3500.  3500.\n",
        "  3500.  3500.  3500.  3500.  3500.  3500.  3500.  3500.  3500.  3500.\n",
        "  3500.  3500.  3500.  3500.  3500.  3500.  3500.  3500.  3500.  3500.\n",
        "  3500.  3500.  3500.]\n"
       ]
      }
     ],
     "prompt_number": 10
    },
    {
     "cell_type": "code",
     "collapsed": false,
     "input": [
      "b0_voldata = data[:,:,:,0]"
     ],
     "language": "python",
     "metadata": {},
     "outputs": []
    },
    {
     "cell_type": "code",
     "collapsed": false,
     "input": [
      "import numpy as np\n",
      "print bvals\n",
      "print bvals.shape\n",
      "#[bvals==1000]"
     ],
     "language": "python",
     "metadata": {},
     "outputs": [
      {
       "output_type": "stream",
       "stream": "stdout",
       "text": [
        "[    0.  1000.  1000.  1000.  1000.  1000.  1000.  1000.  1000.  1000.\n",
        "  1000.  1000.  1000.  1000.  1000.  1000.  1000.  1000.  1000.  1000.\n",
        "  1000.  1000.  1000.  1000.  1000.  1000.  1000.  1000.  1000.  1000.\n",
        "  1000.  1000.  1000.  1000.  1000.  1000.  1000.  1000.  1000.  1000.\n",
        "  1000.  1000.  1000.  1000.  1000.  1000.  1000.  1000.  1000.  1000.\n",
        "  1000.  1000.  1000.  1000.  1000.  1000.  1000.  1000.  1000.  1000.\n",
        "  1000.  1000.  1000.  1000.  1000.  2000.  2000.  2000.  2000.  2000.\n",
        "  2000.  2000.  2000.  2000.  2000.  2000.  2000.  2000.  2000.  2000.\n",
        "  2000.  2000.  2000.  2000.  2000.  2000.  2000.  2000.  2000.  2000.\n",
        "  2000.  2000.  2000.  2000.  2000.  2000.  2000.  2000.  2000.  2000.\n",
        "  2000.  2000.  2000.  2000.  2000.  2000.  2000.  2000.  2000.  2000.\n",
        "  2000.  2000.  2000.  2000.  2000.  2000.  2000.  2000.  2000.  2000.\n",
        "  2000.  2000.  2000.  2000.  2000.  2000.  2000.  2000.  2000.  3500.\n",
        "  3500.  3500.  3500.  3500.  3500.  3500.  3500.  3500.  3500.  3500.\n",
        "  3500.  3500.  3500.  3500.  3500.  3500.  3500.  3500.  3500.  3500.\n",
        "  3500.  3500.  3500.  3500.  3500.  3500.  3500.  3500.  3500.  3500.\n",
        "  3500.  3500.  3500.  3500.  3500.  3500.  3500.  3500.  3500.  3500.\n",
        "  3500.  3500.  3500.  3500.  3500.  3500.  3500.  3500.  3500.  3500.\n",
        "  3500.  3500.  3500.  3500.  3500.  3500.  3500.  3500.  3500.  3500.\n",
        "  3500.  3500.  3500.]\n",
        "(193,)\n"
       ]
      },
      {
       "output_type": "pyout",
       "prompt_number": 26,
       "text": [
        "[array([False,  True,  True,  True,  True,  True,  True,  True,  True,\n",
        "        True,  True,  True,  True,  True,  True,  True,  True,  True,\n",
        "        True,  True,  True,  True,  True,  True,  True,  True,  True,\n",
        "        True,  True,  True,  True,  True,  True,  True,  True,  True,\n",
        "        True,  True,  True,  True,  True,  True,  True,  True,  True,\n",
        "        True,  True,  True,  True,  True,  True,  True,  True,  True,\n",
        "        True,  True,  True,  True,  True,  True,  True,  True,  True,\n",
        "        True,  True, False, False, False, False, False, False, False,\n",
        "       False, False, False, False, False, False, False, False, False,\n",
        "       False, False, False, False, False, False, False, False, False,\n",
        "       False, False, False, False, False, False, False, False, False,\n",
        "       False, False, False, False, False, False, False, False, False,\n",
        "       False, False, False, False, False, False, False, False, False,\n",
        "       False, False, False, False, False, False, False, False, False,\n",
        "       False, False, False, False, False, False, False, False, False,\n",
        "       False, False, False, False, False, False, False, False, False,\n",
        "       False, False, False, False, False, False, False, False, False,\n",
        "       False, False, False, False, False, False, False, False, False,\n",
        "       False, False, False, False, False, False, False, False, False,\n",
        "       False, False, False, False, False, False, False, False, False,\n",
        "       False, False, False, False, False, False, False, False, False,\n",
        "       False, False, False, False], dtype=bool)]"
       ]
      }
     ],
     "prompt_number": 26
    },
    {
     "cell_type": "markdown",
     "metadata": {},
     "source": [
      "- if particles remain stationary, the MR signal is not modified by the gradient\n",
      "- if particles diffuse along **x** during the diffusion time $\\Delta$, a ***signal attenuation*** is observed compared to the signal without any gradient (G = 0).\n",
      "\n",
      "Signal attenuation (SA): $SA=e^{-b.ADC}$\n",
      "where b is called the b-value and depends on gradient intensity and diffusion time. b determines the diffusion weighting of the of the acquistion.\n",
      "\n",
      "**WARNING ! trade-off between diffusion weighting and signal to noise ratio !!!**"
     ]
    }
   ],
   "metadata": {}
  }
 ]
}