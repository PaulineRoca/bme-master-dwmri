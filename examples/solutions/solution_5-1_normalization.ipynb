{
 "metadata": {
  "name": "solution_5-1_normalization",
  "signature": "sha256:1b3d260376eb824684b5fe215e5dd6ccd50adc818190888bbf088ba2947ebe7e"
 },
 "nbformat": 3,
 "nbformat_minor": 0,
 "worksheets": [
  {
   "cells": [
    {
     "cell_type": "heading",
     "level": 2,
     "metadata": {},
     "source": [
      "5. Diffusion MR scanner data"
     ]
    },
    {
     "cell_type": "heading",
     "level": 3,
     "metadata": {},
     "source": [
      "5.1 Exercise :"
     ]
    },
    {
     "cell_type": "code",
     "collapsed": false,
     "input": [
      "import numpy as np # Python package for handling arrays\n",
      "import os # to have access to commands of the operating system\n",
      "from os.path import expanduser, join\n",
      "home = expanduser('~')\n",
      "data1_dirname = join(home,'tp','data','fsl_fdt1','subj1')\n",
      "\n",
      "#Definition of input filenames:\n",
      "dwi_fname = join(data1_dirname,'data.nii.gz')\n",
      "bvecs_fname = join(data1_dirname ,'bvecs')\n",
      "bvals_fname = join(data1_dirname,'bvals')\n",
      "\n",
      "#Loading the images:\n",
      "import nibabel as nib\n",
      "img = nib.load(dwi_fname)\n",
      "data = img.get_data()\n",
      "\n",
      "slice_data = data[:, :, 32,:]\n",
      "\n",
      "#visualization of the images:\n",
      "import matplotlib.pyplot as plt # To make 2D plots\n",
      "plt.figure()\n",
      "plt.subplot(1,2,1)\n",
      "plt.imshow(data[:, :, 32, 0].T, cmap='gray', origin= 'lower')\n",
      "plt.subplot(1,2,2)\n",
      "plt.imshow(data[:, :, 32, 1].T, cmap='gray', origin= 'lower')\n",
      "plt.show()\n",
      "\n",
      "print data[:, :, 32, 0].min()\n",
      "print data[:, :, 32, 0].max()\n",
      "print data[:, :, 32, 1].min()\n",
      "print data[:, :, 32, 1].max()"
     ],
     "language": "python",
     "metadata": {},
     "outputs": [
      {
       "output_type": "stream",
       "stream": "stdout",
       "text": [
        "-7.29911\n",
        "3408.6\n",
        "-7.25199\n",
        "383.342\n"
       ]
      }
     ],
     "prompt_number": 1
    },
    {
     "cell_type": "markdown",
     "metadata": {},
     "source": [
      "- if particles remain stationary, the MR signal is not modified by the gradient\n",
      "- if particles diffuse along **x** during the diffusion time $\\Delta$, a ***signal attenuation*** is observed compared to the signal without any gradient (G = 0).\n",
      "\n",
      "Signal attenuation (SA): $SA=e^{-b.ADC}$\n",
      "where b is called the b-value and depends on gradient intensity and diffusion time. b determines the diffusion weighting of the of the acquistion."
     ]
    },
    {
     "cell_type": "code",
     "collapsed": false,
     "input": [],
     "language": "python",
     "metadata": {},
     "outputs": []
    }
   ],
   "metadata": {}
  }
 ]
}